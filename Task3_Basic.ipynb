{
  "nbformat": 4,
  "nbformat_minor": 0,
  "metadata": {
    "colab": {
      "name": "Task3 Basic.ipynb",
      "provenance": []
    },
    "kernelspec": {
      "name": "python3",
      "display_name": "Python 3"
    },
    "language_info": {
      "name": "python"
    }
  },
  "cells": [
    {
      "cell_type": "markdown",
      "metadata": {
        "id": "ybWTTIL4ooyZ"
      },
      "source": [
        "Q.1 Read in two integers,  and , and print three lines.\n",
        "The first line is the integer division  (While using Python2 remember to import division from __future__).\n",
        "The second line is the result of the modulo operator: .\n",
        "The third line prints the divmod of  and ."
      ]
    },
    {
      "cell_type": "code",
      "metadata": {
        "colab": {
          "base_uri": "https://localhost:8080/"
        },
        "id": "hjf7BfrdEEhp",
        "outputId": "17d1c779-8ca9-4499-a687-eca71f4dfd1e"
      },
      "source": [
        "a = int(input())\n",
        "b = int(input())\n",
        "print(a//b)\n",
        "print(a%b)\n",
        "print(divmod(a,b))"
      ],
      "execution_count": 2,
      "outputs": [
        {
          "output_type": "stream",
          "name": "stdout",
          "text": [
            "177\n",
            "10\n",
            "17\n",
            "7\n",
            "(17, 7)\n"
          ]
        }
      ]
    },
    {
      "cell_type": "markdown",
      "metadata": {
        "id": "qgzkMzjaqqSp"
      },
      "source": [
        "Q.2 You are given three integers: a,b , and m . Print two lines.\n",
        "On the first line, print the result of pow(a,b). On the second line, print the result of pow(a,b,m)."
      ]
    },
    {
      "cell_type": "code",
      "metadata": {
        "colab": {
          "base_uri": "https://localhost:8080/"
        },
        "id": "F7qYvNgcpL83",
        "outputId": "93e41334-fb88-48d1-d2cf-46b6d0a2f4ad"
      },
      "source": [
        "a = int(input())\n",
        "b = int(input())\n",
        "m = int(input())\n",
        "print(a**b)\n",
        "print((a**b) % m )"
      ],
      "execution_count": 4,
      "outputs": [
        {
          "output_type": "stream",
          "name": "stdout",
          "text": [
            "3\n",
            "4\n",
            "5\n",
            "81\n",
            "1\n"
          ]
        }
      ]
    },
    {
      "cell_type": "markdown",
      "metadata": {
        "id": "xmUMfoAksZT6"
      },
      "source": [
        "Q.3 Read four numbers,a ,b ,c , and d and print the result of a^b + c^d ."
      ]
    },
    {
      "cell_type": "code",
      "metadata": {
        "colab": {
          "base_uri": "https://localhost:8080/"
        },
        "id": "BbdYG0MqpL49",
        "outputId": "6ef25154-4149-40ac-dd40-0dbca83bdf8c"
      },
      "source": [
        "a = int(input())\n",
        "b = int(input())\n",
        "c = int(input())\n",
        "d = int(input())\n",
        "print((a**b)+(c**d))\n"
      ],
      "execution_count": 5,
      "outputs": [
        {
          "output_type": "stream",
          "name": "stdout",
          "text": [
            "9\n",
            "29\n",
            "7\n",
            "27\n",
            "4710194409608608369201743232\n"
          ]
        }
      ]
    },
    {
      "cell_type": "markdown",
      "metadata": {
        "id": "0wTKoXbjuptM"
      },
      "source": [
        "Q.4 Find Angle MBC"
      ]
    },
    {
      "cell_type": "code",
      "metadata": {
        "colab": {
          "base_uri": "https://localhost:8080/"
        },
        "id": "SQorigJWpL2S",
        "outputId": "c5a6a7da-7f72-4084-8f39-7ac111863075"
      },
      "source": [
        "import math\n",
        "\n",
        "AB = int(input())\n",
        "BC = int(input())\n",
        "AC = math.sqrt((AB**2)+(BC**2))\n",
        "MC = AC/2\n",
        "adjct = BC/2.0\n",
        "Output = str(int(round(math.degrees(math.acos(adjct/MC)))))\n",
        "print(Output+\"°\")\n"
      ],
      "execution_count": 9,
      "outputs": [
        {
          "output_type": "stream",
          "name": "stdout",
          "text": [
            "10\n",
            "10\n",
            "45°\n"
          ]
        }
      ]
    },
    {
      "cell_type": "markdown",
      "metadata": {
        "id": "Y0lu5J3A15YV"
      },
      "source": [
        "Q.5 You are given a positive integer .\n",
        "Your task is to print a palindromic triangle of size .\n",
        "\n",
        "For example, a palindromic triangle of size  is:\n",
        "\n",
        "1\n",
        "121\n",
        "12321\n",
        "1234321\n",
        "123454321\n",
        "You can't take more than two lines. The first line (a for-statement) is already written for you.\n",
        "You have to complete the code using exactly one print statement."
      ]
    },
    {
      "cell_type": "code",
      "metadata": {
        "id": "C5m-d5BzpLzW",
        "colab": {
          "base_uri": "https://localhost:8080/"
        },
        "outputId": "495e4452-6e62-4575-d989-227571a5d667"
      },
      "source": [
        "\n",
        "for i in range(1,int(input())+1):\n",
        " print (((10**i - 1)//9)**2)"
      ],
      "execution_count": 19,
      "outputs": [
        {
          "output_type": "stream",
          "name": "stdout",
          "text": [
            "5\n",
            "1\n",
            "121\n",
            "12321\n",
            "1234321\n",
            "123454321\n"
          ]
        }
      ]
    },
    {
      "cell_type": "markdown",
      "metadata": {
        "id": "vFN9DYFPATkX"
      },
      "source": [
        "Q.6 You are given a positive integer . Print a numerical triangle of height  like the one below:\n",
        "\n",
        "1\n",
        "22\n",
        "333\n",
        "4444\n",
        "55555\n",
        "......\n",
        "Can you do it using only arithmetic operations, a single for loop and print statement?\n",
        "\n",
        "Use no more than two lines. The first line (the for statement) is already written for you. You have to complete the print statement."
      ]
    },
    {
      "cell_type": "code",
      "metadata": {
        "colab": {
          "base_uri": "https://localhost:8080/"
        },
        "id": "866O-o5RpLwp",
        "outputId": "faa1c752-8870-4ad5-f8d8-e6b8adde00b3"
      },
      "source": [
        "for i in range(1,int(input())):\n",
        "  print (((10**i)//9)*i)"
      ],
      "execution_count": 31,
      "outputs": [
        {
          "output_type": "stream",
          "name": "stdout",
          "text": [
            "5\n",
            "1\n",
            "22\n",
            "333\n",
            "4444\n"
          ]
        }
      ]
    },
    {
      "cell_type": "markdown",
      "metadata": {
        "id": "mBMsbVrUC7ru"
      },
      "source": [
        "Q.7 You are given a complex . Your task is to convert it to polar coordinates"
      ]
    },
    {
      "cell_type": "code",
      "metadata": {
        "colab": {
          "base_uri": "https://localhost:8080/"
        },
        "id": "K18AJeNEpLto",
        "outputId": "9114092c-ad1e-4bb6-d9c8-43fa88f788f0"
      },
      "source": [
        "import cmath\n",
        "num = complex(input())\n",
        "z = complex(num)\n",
        "\n",
        "print(cmath.polar(z)[0])\n",
        "print(cmath.polar(z)[1])"
      ],
      "execution_count": 60,
      "outputs": [
        {
          "output_type": "stream",
          "name": "stdout",
          "text": [
            "4+4j\n",
            "5.656854249492381\n",
            "0.7853981633974483\n"
          ]
        }
      ]
    },
    {
      "cell_type": "code",
      "metadata": {
        "id": "OCLcDVUkpLpA"
      },
      "source": [
        ""
      ],
      "execution_count": null,
      "outputs": []
    }
  ]
}