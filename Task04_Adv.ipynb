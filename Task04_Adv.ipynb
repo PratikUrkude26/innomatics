{
  "nbformat": 4,
  "nbformat_minor": 0,
  "metadata": {
    "colab": {
      "name": "Task04 Adv.ipynb",
      "provenance": []
    },
    "kernelspec": {
      "name": "python3",
      "display_name": "Python 3"
    },
    "language_info": {
      "name": "python"
    }
  },
  "cells": [
    {
      "cell_type": "markdown",
      "metadata": {
        "id": "kpnVzM1mup1I"
      },
      "source": [
        "Spot the single Number"
      ]
    },
    {
      "cell_type": "code",
      "metadata": {
        "colab": {
          "base_uri": "https://localhost:8080/"
        },
        "id": "GHHmOV7tlOxG",
        "outputId": "071ec12e-2634-42f2-8c07-a5f141aebd06"
      },
      "source": [
        " def singleNumber(nums) -> int:\n",
        "   #nums.sort()\n",
        "   if len(nums)==1:\n",
        "     a= nums[0]\n",
        "   else:\n",
        "      for i in range(len(nums)):\n",
        "        for j in range (len(nums)):\n",
        "          if nums[i] == nums[j]:\n",
        "            a = nums[i]          \n",
        "   return a\n",
        "\n",
        "\n",
        "\n",
        "singleNumber([4,1,2,1,2])"
      ],
      "execution_count": 18,
      "outputs": [
        {
          "output_type": "execute_result",
          "data": {
            "text/plain": [
              "1"
            ]
          },
          "metadata": {},
          "execution_count": 18
        }
      ]
    },
    {
      "cell_type": "markdown",
      "metadata": {
        "id": "RIwPHfAxuici"
      },
      "source": [
        "Sort Integers by The Number of 1 Bits"
      ]
    },
    {
      "cell_type": "code",
      "metadata": {
        "colab": {
          "base_uri": "https://localhost:8080/"
        },
        "id": "V0ZuJhFFlPbe",
        "outputId": "c6fce786-a34c-47e0-c835-8e40f9a29790"
      },
      "source": [
        " def sortByBits(arr):\n",
        "        arr.sort()\n",
        "        d, m = {}, 0\n",
        "        for i in arr:\n",
        "            b = str(bin(i))\n",
        "            bits = b.count('1')\n",
        "            m = max(bits, m)\n",
        "            if bits in d:\n",
        "                d[bits].append(i)\n",
        "            else:\n",
        "                d[bits] = [i]\n",
        "        d = sorted(d.items())\n",
        "        res = []\n",
        "        for n in d:\n",
        "            for i in n[1]:\n",
        "                res.append(i)\n",
        "    \n",
        "        return res\n",
        "sortByBits([0,1,2,3,4,5,6,7,8])"
      ],
      "execution_count": 20,
      "outputs": [
        {
          "output_type": "execute_result",
          "data": {
            "text/plain": [
              "[0, 1, 2, 4, 8, 3, 5, 6, 7]"
            ]
          },
          "metadata": {},
          "execution_count": 20
        }
      ]
    },
    {
      "cell_type": "markdown",
      "metadata": {
        "id": "sssx35oe1zmw"
      },
      "source": [
        "Subset"
      ]
    },
    {
      "cell_type": "code",
      "metadata": {
        "colab": {
          "base_uri": "https://localhost:8080/"
        },
        "id": "q7V08OGJlPeB",
        "outputId": "cc0642a8-c06a-47ad-ad37-f1c024148843"
      },
      "source": [
        "def subsets(nums):\n",
        "  def backtrack(index = 0):\n",
        "    subsets.append(subset[:])\n",
        "    for i in range(index, len(nums)):\n",
        "        subset.append(nums[i])\n",
        "        backtrack(i + 1)\n",
        "        subset.pop()\n",
        "        \n",
        "  subset, subsets = [], [] \n",
        "  backtrack()\n",
        "  return subsets\n",
        "subsets([1,2,3])\n"
      ],
      "execution_count": 24,
      "outputs": [
        {
          "output_type": "execute_result",
          "data": {
            "text/plain": [
              "[[], [1], [1, 2], [1, 2, 3], [1, 3], [2], [2, 3], [3]]"
            ]
          },
          "metadata": {},
          "execution_count": 24
        }
      ]
    },
    {
      "cell_type": "code",
      "metadata": {
        "id": "0eXm62pNlPg1"
      },
      "source": [
        " [1,2,3]"
      ],
      "execution_count": null,
      "outputs": []
    },
    {
      "cell_type": "code",
      "metadata": {
        "id": "lBEuFz1slPjX"
      },
      "source": [
        ""
      ],
      "execution_count": null,
      "outputs": []
    },
    {
      "cell_type": "code",
      "metadata": {
        "id": "GNLyfP4ElPl_"
      },
      "source": [
        ""
      ],
      "execution_count": null,
      "outputs": []
    }
  ]
}