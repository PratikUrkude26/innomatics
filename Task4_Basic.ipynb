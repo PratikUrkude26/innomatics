{
  "nbformat": 4,
  "nbformat_minor": 0,
  "metadata": {
    "colab": {
      "name": "Task4 Basic.ipynb",
      "provenance": []
    },
    "kernelspec": {
      "name": "python3",
      "display_name": "Python 3"
    },
    "language_info": {
      "name": "python"
    }
  },
  "cells": [
    {
      "cell_type": "markdown",
      "metadata": {
        "id": "TPViw9Ff_03B"
      },
      "source": [
        "What's Your Name?"
      ]
    },
    {
      "cell_type": "code",
      "metadata": {
        "colab": {
          "base_uri": "https://localhost:8080/"
        },
        "id": "jhk104lo6dQ4",
        "outputId": "e6722c04-ab65-4e83-c274-25cd5b524aa9"
      },
      "source": [
        "def print_full_name(first, last):\n",
        "    return print(f\"Hello {first} {last}! You just delved into python.\")\n",
        "\n",
        "\n",
        "if __name__ == '__main__':\n",
        "    first_name = input()\n",
        "    last_name = input()\n",
        "    print_full_name(first_name, last_name)"
      ],
      "execution_count": 4,
      "outputs": [
        {
          "output_type": "stream",
          "name": "stdout",
          "text": [
            "Pratik\n",
            "Urkude\n",
            "Hello Pratik Urkude! You just delved into python.\n"
          ]
        }
      ]
    },
    {
      "cell_type": "markdown",
      "metadata": {
        "id": "G6eMFxO4A2XD"
      },
      "source": [
        "Q.2 We have seen that lists are mutable (they can be changed), and tuples are immutable (they cannot be changed).\n",
        "Let's try to understand this with an example.\n",
        "You are given an immutable string, and you want to make changes to it."
      ]
    },
    {
      "cell_type": "code",
      "metadata": {
        "id": "YjzFvClz6ei4",
        "colab": {
          "base_uri": "https://localhost:8080/"
        },
        "outputId": "8b1405eb-dcfa-4330-a7c1-42a38aa9f44c"
      },
      "source": [
        "def mutate_string(string, position, character):\n",
        "  s = list(string)\n",
        "  s[position] = character\n",
        "  string =\"\".join(s)\n",
        "  return string\n",
        "s = input()\n",
        "i, c = input().split()\n",
        "s_new = mutate_string(s, int(i), c)\n",
        "print(s_new)\n",
        "        "
      ],
      "execution_count": 14,
      "outputs": [
        {
          "output_type": "stream",
          "name": "stdout",
          "text": [
            "pratik\n",
            "3 j\n",
            "prajik\n"
          ]
        }
      ]
    },
    {
      "cell_type": "markdown",
      "metadata": {
        "id": "KWsXZnpyISXK"
      },
      "source": [
        "Q.3 In this challenge, the user enters a string and a substring. You have to print the number of times that the substring occurs in the given string. String traversal will take place from left to right, not from right to left."
      ]
    },
    {
      "cell_type": "code",
      "metadata": {
        "id": "btkxrTBA6elb",
        "colab": {
          "base_uri": "https://localhost:8080/"
        },
        "outputId": "b4b92cf6-6c74-4a93-ec72-62ca53649d51"
      },
      "source": [
        "def count_substring(string, sub_string):\n",
        "    count = 0\n",
        "    for i in range(0, len(string)-len(sub_string)+1):\n",
        "        l = i\n",
        "        for j in range(0, len(sub_string)):\n",
        "            if string[l] == sub_string[j]:\n",
        "                l +=1\n",
        "                if j == len(sub_string)-1:\n",
        "                    count = count + 1\n",
        "                else:\n",
        "                    continue\n",
        "            else:\n",
        "                break\n",
        "            \n",
        "    return count\n",
        "if __name__ == '__main__':\n",
        "    string = input().strip()\n",
        "    sub_string = input().strip()\n",
        "    \n",
        "    count = count_substring(string, sub_string)\n",
        "    print(count)"
      ],
      "execution_count": 17,
      "outputs": [
        {
          "output_type": "stream",
          "name": "stdout",
          "text": [
            "abcddfdgeabcd\n",
            "ab\n",
            "2\n"
          ]
        }
      ]
    },
    {
      "cell_type": "markdown",
      "metadata": {
        "id": "FEk2VvJ2ODg3"
      },
      "source": [
        "Q.4 You are given a string .\n",
        "Your task is to find out if the string  contains: alphanumeric characters, alphabetical characters, digits, lowercase and uppercase characters."
      ]
    },
    {
      "cell_type": "code",
      "metadata": {
        "colab": {
          "base_uri": "https://localhost:8080/"
        },
        "id": "dNpWpGtGIQrG",
        "outputId": "427aaf3e-9029-46e1-a01d-e798be426333"
      },
      "source": [
        "s = list(input())\n",
        "flag1 = False\n",
        "flag2 = False\n",
        "flag3 = False\n",
        "flag4 = False\n",
        "flag5 = False\n",
        "for i in range(len(s)):\n",
        "    if s[i].isalnum() == True:\n",
        "        flag1 = True\n",
        "    if s[i].isalpha() == True:\n",
        "        flag2 = True\n",
        "    if s[i].isdigit() == True:\n",
        "        flag3 = True\n",
        "    if s[i].islower() == True:\n",
        "        flag4 = True\n",
        "    if s[i].isupper() == True:\n",
        "        flag5 = True\n",
        "else:\n",
        "    print (flag1)\n",
        "    print (flag2)\n",
        "    print (flag3)\n",
        "    print (flag4)\n",
        "    print (flag5)"
      ],
      "execution_count": 25,
      "outputs": [
        {
          "name": "stdout",
          "output_type": "stream",
          "text": [
            "pratik0\n"
          ]
        }
      ]
    },
    {
      "cell_type": "markdown",
      "metadata": {
        "id": "iSN0Bv5iVKsF"
      },
      "source": [
        "Q.5 Text Wrap"
      ]
    },
    {
      "cell_type": "code",
      "metadata": {
        "colab": {
          "base_uri": "https://localhost:8080/"
        },
        "id": "J7yBarg2OCUX",
        "outputId": "52037e32-50e7-40ef-de93-cef160addf77"
      },
      "source": [
        "import textwrap\n",
        "\n",
        "def wrap(string, max_width):\n",
        "    wrapper = textwrap.TextWrapper(width=max_width) \n",
        "    dedented_text = textwrap.dedent(text=string) \n",
        "    result = wrapper.fill(text=dedented_text) \n",
        "    return result\n",
        "\n",
        "if __name__ == '__main__':\n",
        "    string, max_width = input(), int(input())\n",
        "    result = wrap(string, max_width)\n",
        "    print(result)"
      ],
      "execution_count": 26,
      "outputs": [
        {
          "output_type": "stream",
          "name": "stdout",
          "text": [
            "abcdefghijklmopqrst\n",
            "4\n",
            "abcd\n",
            "efgh\n",
            "ijkl\n",
            "mopq\n",
            "rst\n"
          ]
        }
      ]
    },
    {
      "cell_type": "markdown",
      "metadata": {
        "id": "lztPIbeLX4a1"
      },
      "source": [
        "Q.6 Given an integer, , print the following values for each integer  from  to :\n",
        "Decimal,Octal,Hexadecimal (capitalized),Binary"
      ]
    },
    {
      "cell_type": "code",
      "metadata": {
        "colab": {
          "base_uri": "https://localhost:8080/"
        },
        "id": "Nqf54XKYOC8p",
        "outputId": "0e193b8f-9f1f-4f9e-fd4b-1b5b8f82d908"
      },
      "source": [
        "def print_formatted(number):\n",
        "    l = len(bin(number)) - 2\n",
        "\n",
        "    for i in range(1, number + 1):\n",
        "        f = \"\"\n",
        "        for c in \"doXb\":\n",
        "            if f:\n",
        "                f += \" \"\n",
        "            f += \"{:>\" + str(l) + c + \"}\"\n",
        "        print(f.format(i, i, i, i))\n",
        "\n",
        "if __name__ == '__main__':\n",
        "    n = int(input())\n",
        "    print_formatted(n)"
      ],
      "execution_count": 27,
      "outputs": [
        {
          "output_type": "stream",
          "name": "stdout",
          "text": [
            "5\n",
            "  1   1   1   1\n",
            "  2   2   2  10\n",
            "  3   3   3  11\n",
            "  4   4   4 100\n",
            "  5   5   5 101\n"
          ]
        }
      ]
    },
    {
      "cell_type": "markdown",
      "metadata": {
        "id": "4w_axiGAaV9a"
      },
      "source": [
        "Q.7 Capitalize!\n",
        "\n"
      ]
    },
    {
      "cell_type": "code",
      "metadata": {
        "colab": {
          "base_uri": "https://localhost:8080/"
        },
        "id": "afN49x_iOC_C",
        "outputId": "6d819544-87e8-4a8c-e072-7e6c90290acd"
      },
      "source": [
        "def solve(s):\n",
        "    for x in s[:].split():\n",
        "        s = s.replace(x, x.capitalize())\n",
        "    return s\n",
        "\n",
        "if __name__ == '__main__':\n",
        "    s = input()\n",
        "    result = solve(s)\n",
        "    print(result)\n",
        "    \n"
      ],
      "execution_count": 32,
      "outputs": [
        {
          "output_type": "stream",
          "name": "stdout",
          "text": [
            "pratik ukude\n",
            "Pratik Ukude\n"
          ]
        }
      ]
    },
    {
      "cell_type": "markdown",
      "metadata": {
        "id": "BElOLolGcMcf"
      },
      "source": [
        "MIninon Game"
      ]
    },
    {
      "cell_type": "code",
      "metadata": {
        "colab": {
          "base_uri": "https://localhost:8080/"
        },
        "id": "dKXLMTSWODBI",
        "outputId": "dc0bc696-584f-4fd7-de2f-3b09bc6c861c"
      },
      "source": [
        "def minion_game(string):\n",
        "    vowels = 'AEIOU'\n",
        "    Stuart_score, Kevin_score = 0, 0\n",
        "    length = len(string)\n",
        "    for start_idx in range(length):\n",
        "        score = length - start_idx\n",
        "        if string[start_idx] in vowels:\n",
        "            Kevin_score += score\n",
        "        else:\n",
        "            Stuart_score += score\n",
        "    if Stuart_score == Kevin_score:\n",
        "        print('Draw')\n",
        "    if Stuart_score > Kevin_score:\n",
        "        print('Stuart {}'.format(Stuart_score))\n",
        "    if Stuart_score < Kevin_score:\n",
        "        print('Kevin {}'.format(Kevin_score))\n",
        "\n",
        "if __name__ == '__main__':\n",
        "    s = input()\n",
        "    minion_game(s)"
      ],
      "execution_count": 36,
      "outputs": [
        {
          "output_type": "stream",
          "name": "stdout",
          "text": [
            "BANANA\n",
            "Stuart 12\n",
            "Kevin 9\n"
          ]
        }
      ]
    },
    {
      "cell_type": "markdown",
      "metadata": {
        "id": "XmxnP-o-dgCK"
      },
      "source": [
        "Merge the Tools!\n"
      ]
    },
    {
      "cell_type": "code",
      "metadata": {
        "colab": {
          "base_uri": "https://localhost:8080/"
        },
        "id": "-GcvpOODIQ1g",
        "outputId": "aa0a6e43-0af8-42af-c0e9-ad2c5448bc89"
      },
      "source": [
        "def merge_the_tools(string, k):\n",
        "    for part in zip(*[iter(string)] * k):\n",
        "        d = dict()\n",
        "        print(''.join([ d.setdefault(c, c) for c in part if c not in d ]))\n",
        "\n",
        "if __name__ == '__main__':\n",
        "    string, k = input(), int(input())\n",
        "    merge_the_tools(string, k)"
      ],
      "execution_count": 37,
      "outputs": [
        {
          "output_type": "stream",
          "name": "stdout",
          "text": [
            "aabccmkeieffjnfnndkdkmd 3\n",
            "3\n",
            "ab\n",
            "cm\n",
            "kei\n",
            "ef\n",
            "jnf\n",
            "nd\n",
            "kd\n",
            "md \n"
          ]
        }
      ]
    },
    {
      "cell_type": "markdown",
      "metadata": {
        "id": "cql6AL7JgmSh"
      },
      "source": [
        "Q.10 String Split and Join"
      ]
    },
    {
      "cell_type": "code",
      "metadata": {
        "colab": {
          "base_uri": "https://localhost:8080/"
        },
        "id": "hq7URBm0IQ4W",
        "outputId": "8320d364-bf3a-434d-891d-3d51fd80b97e"
      },
      "source": [
        "def split_and_join(line):\n",
        "    line = line.split(\" \")\n",
        "    line = \"-\".join(line)\n",
        "    return line\n",
        "\n",
        "if __name__ == '__main__':\n",
        "    line = input()\n",
        "    result = split_and_join(line)\n",
        "    print(result)"
      ],
      "execution_count": 38,
      "outputs": [
        {
          "output_type": "stream",
          "name": "stdout",
          "text": [
            "this is a string\n",
            "this-is-a-string\n"
          ]
        }
      ]
    },
    {
      "cell_type": "code",
      "metadata": {
        "id": "3AE1Ml8PIQ6_"
      },
      "source": [
        ""
      ],
      "execution_count": null,
      "outputs": []
    }
  ]
}