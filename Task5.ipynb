{
  "nbformat": 4,
  "nbformat_minor": 0,
  "metadata": {
    "colab": {
      "name": "Task5.ipynb",
      "provenance": []
    },
    "kernelspec": {
      "name": "python3",
      "display_name": "Python 3"
    },
    "language_info": {
      "name": "python"
    }
  },
  "cells": [
    {
      "cell_type": "markdown",
      "metadata": {
        "id": "WP1jUkIGsPxR"
      },
      "source": [
        "Q.1 You are given a string  consisting only of digits 0-9, commas ,, and dots .\n",
        "Your task is to complete the regex_pattern defined below, which will be used to re.split() all of the , and . symbols in .\n",
        "It’s guaranteed that every comma and every dot in  is preceeded and followed by a digit"
      ]
    },
    {
      "cell_type": "code",
      "metadata": {
        "colab": {
          "base_uri": "https://localhost:8080/"
        },
        "id": "nvMfxFODsHAA",
        "outputId": "e03e54e4-6cc9-4e2b-8f76-54f30074c327"
      },
      "source": [
        "regex_pattern =  r\"[.,]\"    \t\n",
        "\n",
        "import re\n",
        "print(\"\\n\".join(re.split(regex_pattern, input())))"
      ],
      "execution_count": 1,
      "outputs": [
        {
          "output_type": "stream",
          "name": "stdout",
          "text": [
            "100,000,000.000\n",
            "100\n",
            "000\n",
            "000\n",
            "000\n"
          ]
        }
      ]
    },
    {
      "cell_type": "markdown",
      "metadata": {
        "id": "1WKVgZOSvh77"
      },
      "source": [
        "Q.2 You are given a string .\n",
        "Your task is to find the first occurrence of an alphanumeric character in  (read from left to right) that has consecutive repetitions."
      ]
    },
    {
      "cell_type": "code",
      "metadata": {
        "colab": {
          "base_uri": "https://localhost:8080/"
        },
        "id": "U5ivHClksOlA",
        "outputId": "2e4201be-c359-44e5-be49-fb202335f992"
      },
      "source": [
        "import re\n",
        "m = re.findall(r\"([A-Za-z0-9])\\1+\",input())\n",
        "if m:\n",
        "    print(m[0])\n",
        "else:\n",
        "    print(-1)"
      ],
      "execution_count": 12,
      "outputs": [
        {
          "output_type": "stream",
          "name": "stdout",
          "text": [
            "..12345678910111213141516171820212223\n",
            "1\n"
          ]
        }
      ]
    },
    {
      "cell_type": "markdown",
      "metadata": {
        "id": "zqcGdAw0xFA0"
      },
      "source": [
        "Q.3 You are given a string S . It consists of alphanumeric characters, spaces and symbols(+,-).\n",
        "Your task is to find all the substrings of S that contains 2 or more vowels.\n",
        "Also, these substrings must lie in between 2 consonants and should contain vowels only."
      ]
    },
    {
      "cell_type": "code",
      "metadata": {
        "colab": {
          "base_uri": "https://localhost:8080/"
        },
        "id": "cyQXnAGZsOnc",
        "outputId": "66fc0275-726a-4072-a31d-a776fd235a2e"
      },
      "source": [
        "import re\n",
        "v = \"aeiou\"\n",
        "c = \"qwrtypsdfghjklzxcvbnm\"\n",
        "m = re.findall(r\"(?<=[%s])([%s]{2,})[%s]\" % (c, v, c), input(), flags = re.I)\n",
        "print('\\n'.join(m or ['-1']))"
      ],
      "execution_count": 14,
      "outputs": [
        {
          "output_type": "stream",
          "name": "stdout",
          "text": [
            "rabcdeefgyYhFjkIoomnpOeorteeeeet\n",
            "ee\n",
            "Ioo\n",
            "Oeo\n",
            "eeeee\n"
          ]
        }
      ]
    },
    {
      "cell_type": "markdown",
      "metadata": {
        "id": "wzzUIrqCzOjH"
      },
      "source": [
        "Q.4 You are given a string s .\n",
        "Your task is to find the indices of the start and end of string s in k."
      ]
    },
    {
      "cell_type": "code",
      "metadata": {
        "colab": {
          "base_uri": "https://localhost:8080/"
        },
        "id": "T5kNLIlHsOp3",
        "outputId": "3b7fcbea-a410-4497-c5f5-013db8efc7a6"
      },
      "source": [
        "S = input()\n",
        "k = input()\n",
        "import re\n",
        "pattern = re.compile(k)\n",
        "r = pattern.search(S)\n",
        "if not r: print(\"(-1, -1)\")\n",
        "while r:\n",
        "    print(\"({0}, {1})\".format(r.start(), r.end() - 1))\n",
        "    r = pattern.search(S,r.start() + 1)"
      ],
      "execution_count": 15,
      "outputs": [
        {
          "output_type": "stream",
          "name": "stdout",
          "text": [
            "aaadaa\n",
            "aa\n",
            "(0, 1)\n",
            "(1, 2)\n",
            "(4, 5)\n"
          ]
        }
      ]
    },
    {
      "cell_type": "markdown",
      "metadata": {
        "id": "G3BqlVIZznJL"
      },
      "source": [
        "Q.5 You are given a text of  lines. The text contains && and || symbols.\n",
        "Your task is to modify those symbols to the following:\n",
        "\n",
        "&& → and\n",
        "|| → or\n",
        "Both && and || should have a space \" \" on both sides."
      ]
    },
    {
      "cell_type": "code",
      "metadata": {
        "id": "_h_HQutwzhHC"
      },
      "source": [
        "#import re\n",
        "\n",
        "#ii = int(input())\n",
        "\n",
        "#for i in range(0,ii):\n",
        "   #txt = input()\n",
        "   #txt = re.sub(r\"\\ \\&\\&\\ \",\" and \",txt)\n",
        "   #txt = re.sub(r\"\\ \\|\\|\\ \",\" or \",txt)\n",
        "   #txt = re.sub(r\"\\ \\&\\&\\ \",\" and \",txt)\n",
        "   #txt = re.sub(r\"\\ \\|\\|\\ \",\" or \",txt)\n",
        "   #print(txt)"
      ],
      "execution_count": 18,
      "outputs": []
    },
    {
      "cell_type": "markdown",
      "metadata": {
        "id": "L4iJyLHt5EMM"
      },
      "source": [
        "Validating Roman Numerals"
      ]
    },
    {
      "cell_type": "code",
      "metadata": {
        "colab": {
          "base_uri": "https://localhost:8080/"
        },
        "id": "xuazg-tjzhJ2",
        "outputId": "fc12874e-4c25-4be9-fc70-b42394b2c97a"
      },
      "source": [
        "thousand = 'M{0,3}'\n",
        "hundred = '(C[MD]|D?C{0,3})'\n",
        "ten = '(X[CL]|L?X{0,3})'\n",
        "digit = '(I[VX]|V?I{0,3})'\n",
        "regex_pattern = r\"%s%s%s%s$\" % (thousand, hundred, ten, digit)  \n",
        "import re\n",
        "print(str(bool(re.match(regex_pattern, input()))))"
      ],
      "execution_count": 19,
      "outputs": [
        {
          "output_type": "stream",
          "name": "stdout",
          "text": [
            "CDXXI\n",
            "True\n"
          ]
        }
      ]
    },
    {
      "cell_type": "markdown",
      "metadata": {
        "id": "xKsIl5q77JlU"
      },
      "source": [
        "Q. Let's dive into the interesting topic of regular expressions! You are given some input, and you are required to check whether they are valid mobile numbers.\n",
        "\n",
        "A valid mobile number is a ten digit number starting with a 7,8 or 9."
      ]
    },
    {
      "cell_type": "code",
      "metadata": {
        "colab": {
          "base_uri": "https://localhost:8080/"
        },
        "id": "bMEMP9J9zhMi",
        "outputId": "62fb001f-107e-442e-f2df-3352ed8c50b1"
      },
      "source": [
        "import re\n",
        "for _ in range(int(input())):\n",
        "    if re.match(r'[789]\\d{9}$',input()):   \n",
        "        print('YES')  \n",
        "    else:  \n",
        "        print('NO')"
      ],
      "execution_count": 20,
      "outputs": [
        {
          "output_type": "stream",
          "name": "stdout",
          "text": [
            "2\n",
            "9587456281 1252478965\n",
            "NO\n",
            "1252478965\n",
            "NO\n"
          ]
        }
      ]
    },
    {
      "cell_type": "markdown",
      "metadata": {
        "id": "AoWwGupC9nG4"
      },
      "source": [
        "Q. The first line contains a single integer, , denoting the number of email address.\n",
        "Each line  of the  subsequent lines contains a name and an email address as two space-separated values following this format:\n",
        "name<user@email.com>"
      ]
    },
    {
      "cell_type": "code",
      "metadata": {
        "id": "MXAFhjsjzhPL"
      },
      "source": [
        "import re\n",
        "n = int(input())\n",
        "for _ in range(n):\n",
        "    x, y = input().split(' ')\n",
        "    m = re.match(r'<[A-Za-z](\\w|-|\\.|_)+@[A-Za-z]+\\.[A-Za-z]{1,3}>', y)\n",
        "    if m:\n",
        "        print(x,y)"
      ],
      "execution_count": null,
      "outputs": []
    },
    {
      "cell_type": "markdown",
      "metadata": {
        "id": "3w6ayETJ-IGS"
      },
      "source": [
        "Q. You are given N lines of CSS code. Your task is to print all valid Hex Color Codes, in order of their occurrence from top to bottom."
      ]
    },
    {
      "cell_type": "code",
      "metadata": {
        "colab": {
          "base_uri": "https://localhost:8080/"
        },
        "id": "dNy8DfaWzhSH",
        "outputId": "12b08b9a-2561-4f2a-fe49-44969a0e26b1"
      },
      "source": [
        "import re\n",
        "N=int(input())\n",
        "\n",
        "for i in range(0,N):\n",
        "    s=input()\n",
        "\n",
        "    x=s.split()\n",
        "\n",
        "    if len(x)>1  and  '{' not in x:\n",
        "        x=re.findall(r'#[a-fA-F0-9]{3,6}',s)\n",
        "        [print(i) for  i in x]"
      ],
      "execution_count": 22,
      "outputs": [
        {
          "output_type": "stream",
          "name": "stdout",
          "text": [
            "1\n",
            "background-color: #ABC;     border: 2px dashed #fff;\n",
            "#ABC\n",
            "#fff\n"
          ]
        }
      ]
    },
    {
      "cell_type": "markdown",
      "metadata": {
        "id": "5-Xh7LOB_Y6I"
      },
      "source": [
        "Q. You are given an HTML code snippet of  lines.\n",
        "Your task is to print start tags, end tags and empty tags separately.\n",
        "Format your results in the following way:\n",
        "Start : Tag1\n",
        "End   : Tag1\n",
        "Start : Tag2\n",
        "-> Attribute2[0] > Attribute_value2[0]\n",
        "-> Attribute2[1] > Attribute_value2[1]\n",
        "-> Attribute2[2] > Attribute_value2[2]\n",
        "Start : Tag3\n",
        "-> Attribute3[0] > None\n",
        "Empty : Tag4\n",
        "-> Attribute4[0] > Attribute_value4[0]\n",
        "End   : Tag3\n",
        "End   : Tag2\n",
        "Here, the -> symbol indicates that the tag contains an attribute. It is immediately followed by the name of the attribute and the attribute value.\n",
        "The > symbol acts as a separator of the attribute and the attribute value.\n",
        "\n",
        "If an HTML tag has no attribute then simply print the name of the tag.\n",
        "If an attribute has no attribute value then simply print the name of the attribute value as None."
      ]
    },
    {
      "cell_type": "code",
      "metadata": {
        "id": "EkMRrAMwzhU7"
      },
      "source": [
        "from html.parser import HTMLParser\n",
        "class MyHTMLParser(HTMLParser):\n",
        "    def handle_starttag(self, tag, attrs):        \n",
        "        print ('Start :',tag)\n",
        "        for ele in attrs:\n",
        "            print ('->',ele[0],'>',ele[1])\n",
        "            \n",
        "    def handle_endtag(self, tag):\n",
        "        print ('End   :',tag)\n",
        "        \n",
        "    def handle_startendtag(self, tag, attrs):\n",
        "        print ('Empty :',tag)\n",
        "        for ele in attrs:\n",
        "            print ('->',ele[0],'>',ele[1])\n",
        "            \n",
        "MyParser = MyHTMLParser()\n",
        "MyParser.feed(''.join([input().strip() for _ in range(int(input()))]))"
      ],
      "execution_count": null,
      "outputs": []
    },
    {
      "cell_type": "markdown",
      "metadata": {
        "id": "SwUwg9_cAOxX"
      },
      "source": [
        "Detect HTML Tags, Attributes and Attribute Values"
      ]
    },
    {
      "cell_type": "code",
      "metadata": {
        "id": "wR6IMTVjsOsi"
      },
      "source": [
        "from html.parser import HTMLParser\n",
        "class MyHTMLParser(HTMLParser):\n",
        "    def handle_starttag(self, tag, attrs):\n",
        "        print(tag)\n",
        "        [print('-> {} > {}'.format(*attr)) for attr in attrs]\n",
        "        \n",
        "html = '\\n'.join([input() for _ in range(int(input()))])\n",
        "parser = MyHTMLParser()\n",
        "parser.feed(html)\n",
        "parser.close()"
      ],
      "execution_count": null,
      "outputs": []
    },
    {
      "cell_type": "markdown",
      "metadata": {
        "id": "YGk-xeesAq8U"
      },
      "source": [
        "Validating UID"
      ]
    },
    {
      "cell_type": "code",
      "metadata": {
        "id": "MNfwL32bsOvO"
      },
      "source": [
        "import re\n",
        "\n",
        "for _ in range(int(input())):\n",
        "    u = ''.join(sorted(input()))\n",
        "    try:\n",
        "        assert re.search(r'[A-Z]{2}', u)\n",
        "        assert re.search(r'\\d\\d\\d', u)\n",
        "        assert not re.search(r'[^a-zA-Z0-9]', u)\n",
        "        assert not re.search(r'(.)\\1', u)\n",
        "        assert len(u) == 10\n",
        "    except:\n",
        "        print('Invalid')\n",
        "    else:\n",
        "        print('Valid')"
      ],
      "execution_count": null,
      "outputs": []
    },
    {
      "cell_type": "markdown",
      "metadata": {
        "id": "AWHvYbTIBGxr"
      },
      "source": [
        "Validating Credit Card Numbers"
      ]
    },
    {
      "cell_type": "code",
      "metadata": {
        "id": "B6BenaapsOxw"
      },
      "source": [
        "import re\n",
        "TESTER = re.compile(\n",
        "    r\"^\"\n",
        "    r\"(?!.*(\\d)(-?\\1){3})\"\n",
        "    r\"[456]\"\n",
        "    r\"\\d{3}\"\n",
        "    r\"(?:-?\\d{4}){3}\"\n",
        "    r\"$\")\n",
        "for _ in range(int(input().strip())):\n",
        "    print(\"Valid\" if TESTER.search(input().strip()) else \"Invalid\")"
      ],
      "execution_count": null,
      "outputs": []
    },
    {
      "cell_type": "markdown",
      "metadata": {
        "id": "mY2ZdMg1BqBn"
      },
      "source": [
        "Validating Postal Codes"
      ]
    },
    {
      "cell_type": "code",
      "metadata": {
        "colab": {
          "base_uri": "https://localhost:8080/"
        },
        "id": "odqZTFQRA0py",
        "outputId": "2f3e8e1b-b292-41ce-aa67-49826f4ad2c2"
      },
      "source": [
        "def inn(p):\n",
        "    return 100000 <= int(p) <= 999999\n",
        "\n",
        "\n",
        "def imm(p):\n",
        "    l = []\n",
        "    for i in range(len(p) - 2):\n",
        "        l.append(p[i] != p[i + 2])\n",
        "\n",
        "    return all(l)\n",
        "\n",
        "\n",
        "def is_valid(p):\n",
        "    return (p.isdigit() and inn(p)) and (p != \"110000\")# and imm(p)\n",
        "\n",
        "\n",
        "def main():\n",
        "    p = input()\n",
        "    print(is_valid(p))\n",
        "    \n",
        "    \n",
        "main()"
      ],
      "execution_count": 23,
      "outputs": [
        {
          "output_type": "stream",
          "name": "stdout",
          "text": [
            "110000\n",
            "False\n"
          ]
        }
      ]
    },
    {
      "cell_type": "code",
      "metadata": {
        "id": "TrPd7WWeA0tD"
      },
      "source": [
        ""
      ],
      "execution_count": null,
      "outputs": []
    },
    {
      "cell_type": "code",
      "metadata": {
        "id": "6-alTFHiA0we"
      },
      "source": [
        ""
      ],
      "execution_count": null,
      "outputs": []
    },
    {
      "cell_type": "markdown",
      "metadata": {
        "id": "7F3mnRaisO6g"
      },
      "source": [
        ""
      ]
    }
  ]
}