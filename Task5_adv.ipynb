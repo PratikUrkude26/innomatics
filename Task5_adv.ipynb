{
  "nbformat": 4,
  "nbformat_minor": 0,
  "metadata": {
    "colab": {
      "name": "Task5 adv.ipynb",
      "provenance": []
    },
    "kernelspec": {
      "name": "python3",
      "display_name": "Python 3"
    },
    "language_info": {
      "name": "python"
    }
  },
  "cells": [
    {
      "cell_type": "code",
      "metadata": {
        "colab": {
          "base_uri": "https://localhost:8080/"
        },
        "id": "3Fp1bieeD2bb",
        "outputId": "30d96b79-06ec-46f4-e595-993f028103ab"
      },
      "source": [
        "def hammingDistance( x, y):\n",
        "        c = 0\n",
        "        x = bin(x)[2:]\n",
        "        y = bin(y)[2:]\n",
        "        if len(x) < len(y):\n",
        "            x = '0'*(len(y)-len(x)) + x\n",
        "        elif len(x) > len(y):\n",
        "            y = '0'*(len(x)-len(y)) + y\n",
        "        for i in range(len(x)):\n",
        "            if x[i] != y[i]:\n",
        "                c += 1\n",
        "            else:\n",
        "                continue\n",
        "        return c\n",
        "\n",
        "hammingDistance(4,5)"
      ],
      "execution_count": 4,
      "outputs": [
        {
          "output_type": "execute_result",
          "data": {
            "text/plain": [
              "1"
            ]
          },
          "metadata": {},
          "execution_count": 4
        }
      ]
    },
    {
      "cell_type": "code",
      "metadata": {
        "id": "ACbCDORJEw1J"
      },
      "source": [
        "\n",
        "def singleNumber(nums):\n",
        "        d = dict(Counter(nums))\n",
        "        for k,v in d.items():\n",
        "            if v == 1:\n",
        "                return k\n",
        "\n",
        "singleNumber([2,2,3,2])"
      ],
      "execution_count": null,
      "outputs": []
    }
  ]
}