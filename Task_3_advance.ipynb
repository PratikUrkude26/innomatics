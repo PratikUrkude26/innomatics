{
  "nbformat": 4,
  "nbformat_minor": 0,
  "metadata": {
    "colab": {
      "name": "Task 3 advance.ipynb",
      "provenance": [],
      "collapsed_sections": []
    },
    "kernelspec": {
      "name": "python3",
      "display_name": "Python 3"
    },
    "language_info": {
      "name": "python"
    }
  },
  "cells": [
    {
      "cell_type": "markdown",
      "metadata": {
        "id": "F3KtTrz3V5Ed"
      },
      "source": [
        "Q.1 Maximum Product of Two Elements in an Array"
      ]
    },
    {
      "cell_type": "code",
      "metadata": {
        "colab": {
          "base_uri": "https://localhost:8080/"
        },
        "id": "af1HKW-RU-n3",
        "outputId": "788c6fe5-0487-4ebe-bb50-925a0557f738"
      },
      "source": [
        "def  Maximum_Product(nums):\n",
        "  a =  0\n",
        "  for  i in range(len(nums)):\n",
        "    for j in range(len(nums)):\n",
        "      if i != j:\n",
        "        if a <= (nums[i]-1)*(nums[j]-1):\n",
        "          a = (nums[i]-1)*(nums[j]-1)\n",
        "  return a\n",
        "\n",
        "\n",
        "Maximum_Product([3,4,5,2])\n"
      ],
      "execution_count": 5,
      "outputs": [
        {
          "output_type": "execute_result",
          "data": {
            "text/plain": [
              "12"
            ]
          },
          "metadata": {},
          "execution_count": 5
        }
      ]
    },
    {
      "cell_type": "markdown",
      "metadata": {
        "id": "B7oqPz0fe1cu"
      },
      "source": [
        "\n",
        "Count Number of Teams"
      ]
    },
    {
      "cell_type": "code",
      "metadata": {
        "id": "O5hnP00PVTn8"
      },
      "source": [
        "\n",
        "\n"
      ],
      "execution_count": 29,
      "outputs": []
    },
    {
      "cell_type": "code",
      "metadata": {
        "id": "J-kNpYrMVTqf"
      },
      "source": [
        ""
      ],
      "execution_count": null,
      "outputs": []
    },
    {
      "cell_type": "markdown",
      "metadata": {
        "id": "0CDqg5sKis43"
      },
      "source": [
        " Number of Students Doing Homework at a Given Time"
      ]
    },
    {
      "cell_type": "code",
      "metadata": {
        "colab": {
          "base_uri": "https://localhost:8080/"
        },
        "id": "ADHOLqKvVTtB",
        "outputId": "9157b461-82a3-4d3e-c34a-486517e58198"
      },
      "source": [
        "def busyStudent(startTime, endTime, queryTime):\n",
        "  num_students = 0\n",
        "  for i in range(len(startTime)):\n",
        "    if startTime[i] <= queryTime <= endTime[i]:\n",
        "      num_students += 1\n",
        "  return num_students\n",
        "\n",
        "busyStudent([1,2,3], [3,2,7], 4)"
      ],
      "execution_count": 12,
      "outputs": [
        {
          "output_type": "execute_result",
          "data": {
            "text/plain": [
              "1"
            ]
          },
          "metadata": {},
          "execution_count": 12
        }
      ]
    },
    {
      "cell_type": "markdown",
      "metadata": {
        "id": "oHZTmNyXwNYD"
      },
      "source": [
        "Number of Steps to Reduce a Number to Zero"
      ]
    },
    {
      "cell_type": "code",
      "metadata": {
        "colab": {
          "base_uri": "https://localhost:8080/"
        },
        "id": "kxafPmJXVTvV",
        "outputId": "1639e193-aa3f-45d7-9e69-818adf7d22f3"
      },
      "source": [
        "def Steps(num):\n",
        "  c = 0\n",
        "  while num > 0:\n",
        "    if num % 2 == 0:\n",
        "      num /= 2\n",
        "    else:\n",
        "      num -= 1\n",
        "    c += 1\n",
        "  return c\n",
        "\n",
        "Steps(14)\n"
      ],
      "execution_count": 26,
      "outputs": [
        {
          "output_type": "execute_result",
          "data": {
            "text/plain": [
              "6"
            ]
          },
          "metadata": {},
          "execution_count": 26
        }
      ]
    },
    {
      "cell_type": "markdown",
      "metadata": {
        "id": "y1u10sqW3_j_"
      },
      "source": [
        "Counting Bits"
      ]
    },
    {
      "cell_type": "code",
      "metadata": {
        "colab": {
          "base_uri": "https://localhost:8080/"
        },
        "id": "6hz-DA5TVTyA",
        "outputId": "615d8cf9-9d5c-45ec-f82b-555832e61d6c"
      },
      "source": [
        "def countBits( n):\n",
        "  a = [0]*(n+1)\n",
        "  for i in range(n+1):\n",
        "    a[i] = bin(i).count(\"1\")\n",
        "  return a\n",
        "\n",
        "\n",
        "countBits(6)"
      ],
      "execution_count": 29,
      "outputs": [
        {
          "output_type": "execute_result",
          "data": {
            "text/plain": [
              "[0, 1, 1, 2, 1, 2, 2]"
            ]
          },
          "metadata": {},
          "execution_count": 29
        }
      ]
    },
    {
      "cell_type": "code",
      "metadata": {
        "id": "B7kudzsBVT0U"
      },
      "source": [
        ""
      ],
      "execution_count": null,
      "outputs": []
    },
    {
      "cell_type": "code",
      "metadata": {
        "id": "Gx97jxzwVT2y"
      },
      "source": [
        ""
      ],
      "execution_count": null,
      "outputs": []
    },
    {
      "cell_type": "code",
      "metadata": {
        "id": "ut42K47gVT5Z"
      },
      "source": [
        ""
      ],
      "execution_count": null,
      "outputs": []
    }
  ]
}