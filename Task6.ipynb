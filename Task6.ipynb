{
  "nbformat": 4,
  "nbformat_minor": 0,
  "metadata": {
    "colab": {
      "name": "Task6.ipynb",
      "provenance": []
    },
    "kernelspec": {
      "name": "python3",
      "display_name": "Python 3"
    },
    "language_info": {
      "name": "python"
    }
  },
  "cells": [
    {
      "cell_type": "markdown",
      "metadata": {
        "id": "oAxBqtgHs5H_"
      },
      "source": [
        "Shape and Reshape"
      ]
    },
    {
      "cell_type": "code",
      "metadata": {
        "colab": {
          "base_uri": "https://localhost:8080/"
        },
        "id": "F7x5MelyoKlP",
        "outputId": "9dbe0802-5fc7-4c41-c8ed-9fbda999c010"
      },
      "source": [
        "import numpy as np\n",
        "my_arr = np.array(input().split(),int)\n",
        "print(np.reshape(my_arr,(3,3)))"
      ],
      "execution_count": 1,
      "outputs": [
        {
          "output_type": "stream",
          "name": "stdout",
          "text": [
            "1 2 3 4 5 6 7 8 9\n",
            "[[1 2 3]\n",
            " [4 5 6]\n",
            " [7 8 9]]\n"
          ]
        }
      ]
    },
    {
      "cell_type": "markdown",
      "metadata": {
        "id": "lkScy2ecvdTq"
      },
      "source": [
        "Transpose and flatten"
      ]
    },
    {
      "cell_type": "code",
      "metadata": {
        "colab": {
          "base_uri": "https://localhost:8080/"
        },
        "id": "wKMomUgpompu",
        "outputId": "4774e0b0-cd54-4127-9ca6-d0887e0b56f4"
      },
      "source": [
        "n, m = map(int, input().split())\n",
        "array = np.array([input().strip().split() for i in range(n)], int)\n",
        "print (array.transpose())\n",
        "print (array.flatten())"
      ],
      "execution_count": 6,
      "outputs": [
        {
          "output_type": "stream",
          "name": "stdout",
          "text": [
            "3 3\n",
            "3\n",
            "3\n",
            "1 2 3\n",
            "1 1 1\n",
            "4 5 6\n",
            "[[1 1 4]\n",
            " [2 1 5]\n",
            " [3 1 6]]\n",
            "[1 2 3 1 1 1 4 5 6]\n"
          ]
        }
      ]
    },
    {
      "cell_type": "markdown",
      "metadata": {
        "id": "YUVFqJW42MXb"
      },
      "source": [
        "Concatenate"
      ]
    },
    {
      "cell_type": "code",
      "metadata": {
        "colab": {
          "base_uri": "https://localhost:8080/"
        },
        "id": "LNMxDiUuoms8",
        "outputId": "2cae3d14-bda3-4bbd-9ffa-394c80afd019"
      },
      "source": [
        "a, b, c = map(int,input().split())\n",
        "arrA = np.array([input().strip().split() for _ in range(a)],int)\n",
        "arrB = np.array([input().strip().split() for _ in range(b)],int)\n",
        "print(np.concatenate((arrA, arrB), axis = 0))"
      ],
      "execution_count": 33,
      "outputs": [
        {
          "output_type": "stream",
          "name": "stdout",
          "text": [
            "2 3 1\n",
            "1\n",
            "2\n",
            "3\n",
            "3\n",
            "4\n",
            "[[1]\n",
            " [2]\n",
            " [3]\n",
            " [3]\n",
            " [4]]\n"
          ]
        }
      ]
    },
    {
      "cell_type": "markdown",
      "metadata": {
        "id": "XKsua6SN37bS"
      },
      "source": [
        "**Zeros and Ones**\n",
        "You are given the shape of the array in the form of space-separated integers, each integer representing the size of different dimensions, your task is to print an array of the given shape and integer type using the tools numpy.zeros and numpy.ones."
      ]
    },
    {
      "cell_type": "code",
      "metadata": {
        "colab": {
          "base_uri": "https://localhost:8080/"
        },
        "id": "g3yzANNIomvy",
        "outputId": "ed2e462b-ed8f-46ee-bb78-a63607d2eb79"
      },
      "source": [
        "nums = tuple(map(int, input().split()))\n",
        "print(np.zeros(nums, dtype = np.int))\n",
        "print(np.ones(nums, dtype = np.int))\n"
      ],
      "execution_count": 12,
      "outputs": [
        {
          "output_type": "stream",
          "name": "stdout",
          "text": [
            "3 3 3\n",
            "[[[0 0 0]\n",
            "  [0 0 0]\n",
            "  [0 0 0]]\n",
            "\n",
            " [[0 0 0]\n",
            "  [0 0 0]\n",
            "  [0 0 0]]\n",
            "\n",
            " [[0 0 0]\n",
            "  [0 0 0]\n",
            "  [0 0 0]]]\n",
            "[[[1 1 1]\n",
            "  [1 1 1]\n",
            "  [1 1 1]]\n",
            "\n",
            " [[1 1 1]\n",
            "  [1 1 1]\n",
            "  [1 1 1]]\n",
            "\n",
            " [[1 1 1]\n",
            "  [1 1 1]\n",
            "  [1 1 1]]]\n"
          ]
        }
      ]
    },
    {
      "cell_type": "markdown",
      "metadata": {
        "id": "e8hAz5_S7cwG"
      },
      "source": [
        "Eye and Identity"
      ]
    },
    {
      "cell_type": "code",
      "metadata": {
        "colab": {
          "base_uri": "https://localhost:8080/"
        },
        "id": "fGq2hN0womyV",
        "outputId": "02dce63a-5eb5-4122-ad16-69dbb8a4a931"
      },
      "source": [
        "a, b = map(int,input().split())\n",
        "print(np.eye(a, b))"
      ],
      "execution_count": 24,
      "outputs": [
        {
          "output_type": "stream",
          "name": "stdout",
          "text": [
            "3 3\n",
            "[[1. 0. 0.]\n",
            " [0. 1. 0.]\n",
            " [0. 0. 1.]]\n"
          ]
        }
      ]
    },
    {
      "cell_type": "markdown",
      "metadata": {
        "id": "CNkPu8GR-eB4"
      },
      "source": [
        "You are given two integer arrays,  and  of dimensions X.\n",
        "Your task is to perform the following operations:\n",
        "\n",
        "Add (A + B )\n",
        "Subtract (A - B )\n",
        "Multiply (A * B )\n",
        "Integer Division (A / B )\n",
        "Mod (A % )\n",
        "Power (A ** B )"
      ]
    },
    {
      "cell_type": "code",
      "metadata": {
        "colab": {
          "base_uri": "https://localhost:8080/"
        },
        "id": "mQTJrmLuom03",
        "outputId": "f29916c6-dfa9-4d8e-ea7b-f2ddbbb7800c"
      },
      "source": [
        "n, m = map(int,input().split())\n",
        "a = np.array([input().strip().split() for _ in range(n)],int)\n",
        "b = np.array([input().strip().split() for _ in range(n)],int)\n",
        "print(a+b, a-b, a*b, a//b, a%b, a**b, sep='\\n')\n"
      ],
      "execution_count": 26,
      "outputs": [
        {
          "output_type": "stream",
          "name": "stdout",
          "text": [
            "1 4\n",
            "1 2 3 4\n",
            "5 6 7 8\n",
            "[[ 6  8 10 12]]\n",
            "[[-4 -4 -4 -4]]\n",
            "[[ 5 12 21 32]]\n",
            "[[0 0 0 0]]\n",
            "[[1 2 3 4]]\n",
            "[[    1    64  2187 65536]]\n"
          ]
        }
      ]
    },
    {
      "cell_type": "markdown",
      "metadata": {
        "id": "-0mITX5UGH_Y"
      },
      "source": [
        "Floor, Ceil and Rint"
      ]
    },
    {
      "cell_type": "code",
      "metadata": {
        "colab": {
          "base_uri": "https://localhost:8080/"
        },
        "id": "fnmCoMeLom3n",
        "outputId": "83a56325-39c8-4dde-a5fa-525cc91394b9"
      },
      "source": [
        "np.set_printoptions(sign = ' ')\n",
        "my_arr = np.array(input().split(),float)\n",
        "print(np.floor(my_arr))\n",
        "print(np.ceil(my_arr))\n",
        "print(np.rint(my_arr))"
      ],
      "execution_count": 29,
      "outputs": [
        {
          "output_type": "stream",
          "name": "stdout",
          "text": [
            "1.1 2.2 3.3 4.4 5.5 6.6 7.7 8.8 9.9\n",
            "[ 1.  2.  3.  4.  5.  6.  7.  8.  9.]\n",
            "[  2.   3.   4.   5.   6.   7.   8.   9.  10.]\n",
            "[  1.   2.   3.   4.   6.   7.   8.   9.  10.]\n"
          ]
        }
      ]
    },
    {
      "cell_type": "markdown",
      "metadata": {
        "id": "YxJbHuSeIbRL"
      },
      "source": [
        "Sum and Prod"
      ]
    },
    {
      "cell_type": "code",
      "metadata": {
        "colab": {
          "base_uri": "https://localhost:8080/"
        },
        "id": "9Ilrz0pHom6C",
        "outputId": "ee4b6bae-75c4-4bcd-b8b8-e811c1dc2062"
      },
      "source": [
        "import numpy as np\n",
        "n, m = map(int,input().split())\n",
        "a = np.array([input().strip().split() for _ in range(n)],int)\n",
        "b=np.sum(a, axis = 0)\n",
        "print (np.sum(a, axis = 0))\n",
        "print (np.product(b))"
      ],
      "execution_count": 30,
      "outputs": [
        {
          "output_type": "stream",
          "name": "stdout",
          "text": [
            "2 2\n",
            "1 2\n",
            "3 4\n",
            "[4 6]\n",
            "24\n"
          ]
        }
      ]
    },
    {
      "cell_type": "markdown",
      "metadata": {
        "id": "E6WHKJ1uKV6G"
      },
      "source": [
        "PreparePythonNumpyMin and Max\n",
        "Min and Max"
      ]
    },
    {
      "cell_type": "code",
      "metadata": {
        "colab": {
          "base_uri": "https://localhost:8080/"
        },
        "id": "QHLeG89QGM3J",
        "outputId": "fecbe774-74e3-408b-f84b-14ead8626a37"
      },
      "source": [
        "n, m = map(int,input().split())\n",
        "a = np.array([input().strip().split() for _ in range(n)],int)\n",
        "b=np.min(a, axis = 0)\n",
        "print (np.max(np.min(a, axis = 1)))"
      ],
      "execution_count": 31,
      "outputs": [
        {
          "output_type": "stream",
          "name": "stdout",
          "text": [
            "4 2\n",
            "2 5\n",
            "3 7\n",
            "1 3\n",
            "4 0\n",
            "3\n"
          ]
        }
      ]
    },
    {
      "cell_type": "markdown",
      "metadata": {
        "id": "acy0WtC8MPJn"
      },
      "source": [
        "Mean, Var, and Std"
      ]
    },
    {
      "cell_type": "code",
      "metadata": {
        "colab": {
          "base_uri": "https://localhost:8080/"
        },
        "id": "tIMleza1GM51",
        "outputId": "e07c6c8f-251b-4dcf-bd13-46ad1ea6819f"
      },
      "source": [
        "n, m = map(int,input().split())\n",
        "a = np.array([input().strip().split() for _ in range(n)],int)\n",
        "print (np.mean(a, axis = 1))\n",
        "print (np.var(a, axis = 0))\n",
        "print (np.std(a))"
      ],
      "execution_count": 32,
      "outputs": [
        {
          "output_type": "stream",
          "name": "stdout",
          "text": [
            "2 2\n",
            "1 2\n",
            "3 4\n",
            "[ 1.5  3.5]\n",
            "[ 1.  1.]\n",
            "1.118033988749895\n"
          ]
        }
      ]
    },
    {
      "cell_type": "markdown",
      "metadata": {
        "id": "PRTq4zA3PKu0"
      },
      "source": [
        "Dot and Cross"
      ]
    },
    {
      "cell_type": "code",
      "metadata": {
        "id": "s9fWG3nxGM-a"
      },
      "source": [
        "import numpy as np\n",
        "n = int(input())\n",
        "a = np.array([input().strip().split() for _ in range(n)],int)\n",
        "b = np.array([input().strip().split() for _ in range(n)],int)\n",
        "print(np.dot(a,b))\n"
      ],
      "execution_count": null,
      "outputs": []
    },
    {
      "cell_type": "code",
      "metadata": {
        "id": "Eck5dpbeGNBO"
      },
      "source": [
        ""
      ],
      "execution_count": null,
      "outputs": []
    },
    {
      "cell_type": "code",
      "metadata": {
        "id": "TI_oaEIfom8n"
      },
      "source": [
        ""
      ],
      "execution_count": null,
      "outputs": []
    }
  ]
}