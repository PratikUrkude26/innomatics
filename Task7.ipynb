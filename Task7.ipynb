{
 "cells": [
  {
   "cell_type": "code",
   "execution_count": 29,
   "id": "af05c7e2",
   "metadata": {},
   "outputs": [],
   "source": [
    "import re\n",
    "\n",
    "import numpy as np\n",
    "import pandas as pd\n",
    "import matplotlib.pyplot as plt\n",
    "import seaborn as sns\n",
    "%matplotlib inline\n",
    "\n",
    "import warnings \n",
    "warnings.filterwarnings(\"ignore\")\n",
    "\n",
    "import scipy.stats as stat\n",
    "import pylab"
   ]
  },
  {
   "cell_type": "code",
   "execution_count": 30,
   "id": "6960b54e",
   "metadata": {},
   "outputs": [],
   "source": [
    "def load_data():\n",
    "    df=pd.read_csv(r\"C:\\Users\\prati\\Downloads\\data (1).csv\")\n",
    "    return df"
   ]
  },
  {
   "cell_type": "markdown",
   "id": "f4dee82e",
   "metadata": {},
   "source": [
    "# 1. Descriptive statistics\n",
    "The study of numerical and graphical ways to describe and display your data is called descriptive statistics. It describes the data and helps us understand the features of the data by summarizing the given sample set or population of data. In descriptive statistics, we usually take the sample into account.\n",
    "![](https://editor.analyticsvidhya.com/uploads/65116Copy%20of%20sale.png)\n",
    "Statisticians use graphical representation of data to get a clear picture of the data. Business trends can be analyzed easily with these representations. visual representation is more effective than presenting huge numbers.\n",
    "We can describe these data in various dimensions. Various dimensions of describing data are\n",
    "\n",
    ">- **Central Tendency of Data**\n",
    "\n",
    ">- **Dispersion of Data**\n",
    "\n",
    ">- **Shape of the Data**"
   ]
  },
  {
   "cell_type": "markdown",
   "id": "36234d23",
   "metadata": {},
   "source": [
    "## 1. Central Tendency Of Data\n",
    "This is the center of the distribution of data. It describes the location of data and concentrates where the data is located.<br>\n",
    "The three most widely used measures of the “center” of the data are\n",
    "\n",
    "    1.1 Mean\n",
    "\n",
    "    1.2 Median\n",
    "\n",
    "    1.3 Mode\n",
    "    \n",
    "    \n",
    "![CentralTendencyofData](https://editor.analyticsvidhya.com/uploads/17591Copy%20of%20Untitled.png)"
   ]
  },
  {
   "cell_type": "markdown",
   "id": "f333b405",
   "metadata": {},
   "source": [
    "#### 1.1 Mean\n",
    "The “Mean” is the **average** of the data.<br>\n",
    "**Average** can be identified by summing up all the numbers and then dividing them by the number of observation.\n",
    "\n",
    "> Mean = X1 + X2 + X3 +… +  Xn / n\n",
    "\n",
    "**Example:** \n",
    ">Data – 10,20,30,40,50<br>Number of observations = 5<br>\n",
    ">Mean = [ 10+20+30+40+50 ] / 5<br>\n",
    ">Mean = 30\n",
    "\n",
    "***Outliers*** influence the central tendency of the data.\n",
    "\n",
    "#### <u> What are Outliers?<u>\n",
    ">Outliers are extreme behaviours. An outlier is a data point that differs significantly from other observations. It can cause serious problems in analysis.\n",
    "![Mean](https://editor.analyticsvidhya.com/uploads/67423Copy%20of%20Untitled%20(1).png)\n",
    "\n",
    "**Example :**\n",
    "\n",
    ">Data – 10,20,30,40,200<br>\n",
    ">Mean = [ 10+20+30+40+200 ] / 5<br>\n",
    ">Mean = 60<br>\n",
    "\n",
    "Solution for Outliers problem <br>\n",
    ">***Removing*** the outliers while taking average will give us good results.<br>\n",
    "#### 1.2 Median\n",
    "Median is the 50%th percentile of the data. It is exactly the ***center point*** of the data.\n",
    "\n",
    "Median can be identified by ordering the data and splits the data into two equal parts and find the number. It is the best way to find the center of the data.\n",
    "\n",
    "Because the central tendency of the data is not affected by outliers. Outliers don’t influence the data.\n",
    "![Median](https://editor.analyticsvidhya.com/uploads/38204Copy%20of%20Untitled%20(2).png)\n",
    "    \n",
    "**Example:**\n",
    ">Odd number of Data – 10,20,30,40,50 <br>\n",
    ">Median is 30.<br>\n",
    "\n",
    ">Even number of data – 10,20,30,40,50,60<br>\n",
    ">Find the middle 2 data and take the mean of that two values.<br>\n",
    ">Here 30 and 40 are middle values.<br>\n",
    ">30+40 / 2  = 35 <br>\n",
    "      >Median is 35\n",
    "    \n",
    "    \n",
    "    \n",
    "#### 1.3 Mode\n",
    "Mode is frequently occurring data or elements.\n",
    "\n",
    "If an element occurs the highest number of times, it is the mode of that data. If no number in the data is repeated, then there is no mode for that data. There can be more than one mode in a dataset if two values have the same frequency and also the highest frequency.\n",
    "\n",
    "Outliers don’t influence the data.\n",
    "\n",
    "The mode can be calculated for both quantitative and qualitative data.\n",
    "![MODE](https://editor.analyticsvidhya.com/uploads/56718Copy%20of%20Untitled%20(3).png)\n",
    "    \n",
    "**Example**\n",
    ">Data – 1,3,4,6,7,3,3,5,10,3<br>\n",
    ">Mode is 3<br>\n",
    ">because 3 has the highest frequency ( 4 times)"
   ]
  },
  {
   "cell_type": "code",
   "execution_count": 31,
   "id": "1b76f451",
   "metadata": {
    "scrolled": true
   },
   "outputs": [
    {
     "data": {
      "text/html": [
       "<div>\n",
       "<style scoped>\n",
       "    .dataframe tbody tr th:only-of-type {\n",
       "        vertical-align: middle;\n",
       "    }\n",
       "\n",
       "    .dataframe tbody tr th {\n",
       "        vertical-align: top;\n",
       "    }\n",
       "\n",
       "    .dataframe thead th {\n",
       "        text-align: right;\n",
       "    }\n",
       "</style>\n",
       "<table border=\"1\" class=\"dataframe\">\n",
       "  <thead>\n",
       "    <tr style=\"text-align: right;\">\n",
       "      <th></th>\n",
       "      <th>Mthly_HH_Income</th>\n",
       "      <th>Mthly_HH_Expense</th>\n",
       "      <th>No_of_Fly_Members</th>\n",
       "      <th>Emi_or_Rent_Amt</th>\n",
       "      <th>Annual_HH_Income</th>\n",
       "      <th>Highest_Qualified_Member</th>\n",
       "      <th>No_of_Earning_Members</th>\n",
       "    </tr>\n",
       "  </thead>\n",
       "  <tbody>\n",
       "    <tr>\n",
       "      <th>0</th>\n",
       "      <td>5000</td>\n",
       "      <td>8000</td>\n",
       "      <td>3</td>\n",
       "      <td>2000</td>\n",
       "      <td>64200</td>\n",
       "      <td>Under-Graduate</td>\n",
       "      <td>1</td>\n",
       "    </tr>\n",
       "    <tr>\n",
       "      <th>1</th>\n",
       "      <td>6000</td>\n",
       "      <td>7000</td>\n",
       "      <td>2</td>\n",
       "      <td>3000</td>\n",
       "      <td>79920</td>\n",
       "      <td>Illiterate</td>\n",
       "      <td>1</td>\n",
       "    </tr>\n",
       "    <tr>\n",
       "      <th>2</th>\n",
       "      <td>10000</td>\n",
       "      <td>4500</td>\n",
       "      <td>2</td>\n",
       "      <td>0</td>\n",
       "      <td>112800</td>\n",
       "      <td>Under-Graduate</td>\n",
       "      <td>1</td>\n",
       "    </tr>\n",
       "    <tr>\n",
       "      <th>3</th>\n",
       "      <td>10000</td>\n",
       "      <td>2000</td>\n",
       "      <td>1</td>\n",
       "      <td>0</td>\n",
       "      <td>97200</td>\n",
       "      <td>Illiterate</td>\n",
       "      <td>1</td>\n",
       "    </tr>\n",
       "    <tr>\n",
       "      <th>4</th>\n",
       "      <td>12500</td>\n",
       "      <td>12000</td>\n",
       "      <td>2</td>\n",
       "      <td>3000</td>\n",
       "      <td>147000</td>\n",
       "      <td>Graduate</td>\n",
       "      <td>1</td>\n",
       "    </tr>\n",
       "    <tr>\n",
       "      <th>5</th>\n",
       "      <td>14000</td>\n",
       "      <td>8000</td>\n",
       "      <td>2</td>\n",
       "      <td>0</td>\n",
       "      <td>196560</td>\n",
       "      <td>Graduate</td>\n",
       "      <td>1</td>\n",
       "    </tr>\n",
       "    <tr>\n",
       "      <th>6</th>\n",
       "      <td>15000</td>\n",
       "      <td>16000</td>\n",
       "      <td>3</td>\n",
       "      <td>35000</td>\n",
       "      <td>167400</td>\n",
       "      <td>Post-Graduate</td>\n",
       "      <td>1</td>\n",
       "    </tr>\n",
       "    <tr>\n",
       "      <th>7</th>\n",
       "      <td>18000</td>\n",
       "      <td>20000</td>\n",
       "      <td>5</td>\n",
       "      <td>8000</td>\n",
       "      <td>216000</td>\n",
       "      <td>Graduate</td>\n",
       "      <td>1</td>\n",
       "    </tr>\n",
       "    <tr>\n",
       "      <th>8</th>\n",
       "      <td>19000</td>\n",
       "      <td>9000</td>\n",
       "      <td>2</td>\n",
       "      <td>0</td>\n",
       "      <td>218880</td>\n",
       "      <td>Under-Graduate</td>\n",
       "      <td>1</td>\n",
       "    </tr>\n",
       "    <tr>\n",
       "      <th>9</th>\n",
       "      <td>20000</td>\n",
       "      <td>9000</td>\n",
       "      <td>4</td>\n",
       "      <td>0</td>\n",
       "      <td>220800</td>\n",
       "      <td>Under-Graduate</td>\n",
       "      <td>2</td>\n",
       "    </tr>\n",
       "    <tr>\n",
       "      <th>10</th>\n",
       "      <td>20000</td>\n",
       "      <td>18000</td>\n",
       "      <td>4</td>\n",
       "      <td>8000</td>\n",
       "      <td>278400</td>\n",
       "      <td>Under-Graduate</td>\n",
       "      <td>2</td>\n",
       "    </tr>\n",
       "    <tr>\n",
       "      <th>11</th>\n",
       "      <td>22000</td>\n",
       "      <td>25000</td>\n",
       "      <td>6</td>\n",
       "      <td>12000</td>\n",
       "      <td>279840</td>\n",
       "      <td>Illiterate</td>\n",
       "      <td>1</td>\n",
       "    </tr>\n",
       "    <tr>\n",
       "      <th>12</th>\n",
       "      <td>23400</td>\n",
       "      <td>5000</td>\n",
       "      <td>3</td>\n",
       "      <td>0</td>\n",
       "      <td>292032</td>\n",
       "      <td>Illiterate</td>\n",
       "      <td>1</td>\n",
       "    </tr>\n",
       "    <tr>\n",
       "      <th>13</th>\n",
       "      <td>24000</td>\n",
       "      <td>10500</td>\n",
       "      <td>6</td>\n",
       "      <td>0</td>\n",
       "      <td>316800</td>\n",
       "      <td>Graduate</td>\n",
       "      <td>2</td>\n",
       "    </tr>\n",
       "    <tr>\n",
       "      <th>14</th>\n",
       "      <td>24000</td>\n",
       "      <td>10000</td>\n",
       "      <td>4</td>\n",
       "      <td>0</td>\n",
       "      <td>244800</td>\n",
       "      <td>Graduate</td>\n",
       "      <td>2</td>\n",
       "    </tr>\n",
       "    <tr>\n",
       "      <th>15</th>\n",
       "      <td>25000</td>\n",
       "      <td>12300</td>\n",
       "      <td>3</td>\n",
       "      <td>0</td>\n",
       "      <td>246000</td>\n",
       "      <td>Graduate</td>\n",
       "      <td>1</td>\n",
       "    </tr>\n",
       "    <tr>\n",
       "      <th>16</th>\n",
       "      <td>25000</td>\n",
       "      <td>20000</td>\n",
       "      <td>3</td>\n",
       "      <td>3500</td>\n",
       "      <td>261000</td>\n",
       "      <td>Graduate</td>\n",
       "      <td>1</td>\n",
       "    </tr>\n",
       "    <tr>\n",
       "      <th>17</th>\n",
       "      <td>25000</td>\n",
       "      <td>10000</td>\n",
       "      <td>6</td>\n",
       "      <td>0</td>\n",
       "      <td>258000</td>\n",
       "      <td>Under-Graduate</td>\n",
       "      <td>3</td>\n",
       "    </tr>\n",
       "    <tr>\n",
       "      <th>18</th>\n",
       "      <td>29000</td>\n",
       "      <td>6600</td>\n",
       "      <td>2</td>\n",
       "      <td>2000</td>\n",
       "      <td>348000</td>\n",
       "      <td>Graduate</td>\n",
       "      <td>1</td>\n",
       "    </tr>\n",
       "    <tr>\n",
       "      <th>19</th>\n",
       "      <td>30000</td>\n",
       "      <td>13000</td>\n",
       "      <td>4</td>\n",
       "      <td>0</td>\n",
       "      <td>385200</td>\n",
       "      <td>Graduate</td>\n",
       "      <td>1</td>\n",
       "    </tr>\n",
       "    <tr>\n",
       "      <th>20</th>\n",
       "      <td>30500</td>\n",
       "      <td>25000</td>\n",
       "      <td>5</td>\n",
       "      <td>5000</td>\n",
       "      <td>351360</td>\n",
       "      <td>Under-Graduate</td>\n",
       "      <td>1</td>\n",
       "    </tr>\n",
       "    <tr>\n",
       "      <th>21</th>\n",
       "      <td>32000</td>\n",
       "      <td>15000</td>\n",
       "      <td>4</td>\n",
       "      <td>0</td>\n",
       "      <td>445440</td>\n",
       "      <td>Professional</td>\n",
       "      <td>1</td>\n",
       "    </tr>\n",
       "    <tr>\n",
       "      <th>22</th>\n",
       "      <td>34000</td>\n",
       "      <td>19000</td>\n",
       "      <td>6</td>\n",
       "      <td>0</td>\n",
       "      <td>330480</td>\n",
       "      <td>Professional</td>\n",
       "      <td>1</td>\n",
       "    </tr>\n",
       "    <tr>\n",
       "      <th>23</th>\n",
       "      <td>34000</td>\n",
       "      <td>25000</td>\n",
       "      <td>3</td>\n",
       "      <td>4000</td>\n",
       "      <td>469200</td>\n",
       "      <td>Professional</td>\n",
       "      <td>1</td>\n",
       "    </tr>\n",
       "    <tr>\n",
       "      <th>24</th>\n",
       "      <td>35000</td>\n",
       "      <td>12000</td>\n",
       "      <td>3</td>\n",
       "      <td>0</td>\n",
       "      <td>466200</td>\n",
       "      <td>Graduate</td>\n",
       "      <td>1</td>\n",
       "    </tr>\n",
       "  </tbody>\n",
       "</table>\n",
       "</div>"
      ],
      "text/plain": [
       "    Mthly_HH_Income  Mthly_HH_Expense  No_of_Fly_Members  Emi_or_Rent_Amt  \\\n",
       "0              5000              8000                  3             2000   \n",
       "1              6000              7000                  2             3000   \n",
       "2             10000              4500                  2                0   \n",
       "3             10000              2000                  1                0   \n",
       "4             12500             12000                  2             3000   \n",
       "5             14000              8000                  2                0   \n",
       "6             15000             16000                  3            35000   \n",
       "7             18000             20000                  5             8000   \n",
       "8             19000              9000                  2                0   \n",
       "9             20000              9000                  4                0   \n",
       "10            20000             18000                  4             8000   \n",
       "11            22000             25000                  6            12000   \n",
       "12            23400              5000                  3                0   \n",
       "13            24000             10500                  6                0   \n",
       "14            24000             10000                  4                0   \n",
       "15            25000             12300                  3                0   \n",
       "16            25000             20000                  3             3500   \n",
       "17            25000             10000                  6                0   \n",
       "18            29000              6600                  2             2000   \n",
       "19            30000             13000                  4                0   \n",
       "20            30500             25000                  5             5000   \n",
       "21            32000             15000                  4                0   \n",
       "22            34000             19000                  6                0   \n",
       "23            34000             25000                  3             4000   \n",
       "24            35000             12000                  3                0   \n",
       "\n",
       "    Annual_HH_Income Highest_Qualified_Member  No_of_Earning_Members  \n",
       "0              64200           Under-Graduate                      1  \n",
       "1              79920               Illiterate                      1  \n",
       "2             112800           Under-Graduate                      1  \n",
       "3              97200               Illiterate                      1  \n",
       "4             147000                 Graduate                      1  \n",
       "5             196560                 Graduate                      1  \n",
       "6             167400            Post-Graduate                      1  \n",
       "7             216000                 Graduate                      1  \n",
       "8             218880           Under-Graduate                      1  \n",
       "9             220800           Under-Graduate                      2  \n",
       "10            278400           Under-Graduate                      2  \n",
       "11            279840               Illiterate                      1  \n",
       "12            292032               Illiterate                      1  \n",
       "13            316800                 Graduate                      2  \n",
       "14            244800                 Graduate                      2  \n",
       "15            246000                 Graduate                      1  \n",
       "16            261000                 Graduate                      1  \n",
       "17            258000           Under-Graduate                      3  \n",
       "18            348000                 Graduate                      1  \n",
       "19            385200                 Graduate                      1  \n",
       "20            351360           Under-Graduate                      1  \n",
       "21            445440             Professional                      1  \n",
       "22            330480             Professional                      1  \n",
       "23            469200             Professional                      1  \n",
       "24            466200                 Graduate                      1  "
      ]
     },
     "execution_count": 31,
     "metadata": {},
     "output_type": "execute_result"
    }
   ],
   "source": [
    "df = load_data()\n",
    "df.head(25)"
   ]
  },
  {
   "cell_type": "code",
   "execution_count": 32,
   "id": "92757edc",
   "metadata": {},
   "outputs": [
    {
     "data": {
      "text/plain": [
       "(50, 7)"
      ]
     },
     "execution_count": 32,
     "metadata": {},
     "output_type": "execute_result"
    }
   ],
   "source": [
    "df.shape\n",
    "# rows = 50\n",
    "# colomns = 7"
   ]
  },
  {
   "cell_type": "markdown",
   "id": "8faeac6e",
   "metadata": {},
   "source": [
    "Finding the mean of [ Mnthly_HH_income ] using Pandas"
   ]
  },
  {
   "cell_type": "code",
   "execution_count": 33,
   "id": "014970b8",
   "metadata": {},
   "outputs": [
    {
     "data": {
      "text/plain": [
       "Mthly_HH_Income           41558.0\n",
       "Mthly_HH_Expense          18818.0\n",
       "No_of_Fly_Members             4.0\n",
       "Emi_or_Rent_Amt            3060.0\n",
       "Annual_HH_Income         490019.0\n",
       "No_of_Earning_Members         1.0\n",
       "dtype: float64"
      ]
     },
     "execution_count": 33,
     "metadata": {},
     "output_type": "execute_result"
    }
   ],
   "source": [
    "\n",
    "df[['Mthly_HH_Income', 'Mthly_HH_Expense', 'No_of_Fly_Members',\n",
    "       'Emi_or_Rent_Amt', 'Annual_HH_Income','No_of_Earning_Members']].mean().round()"
   ]
  },
  {
   "cell_type": "markdown",
   "id": "e5aaccd7",
   "metadata": {},
   "source": [
    "Calculating the median using pandas."
   ]
  },
  {
   "cell_type": "code",
   "execution_count": 34,
   "id": "96346465",
   "metadata": {},
   "outputs": [
    {
     "data": {
      "text/plain": [
       "Mthly_HH_Income           35000.0\n",
       "Mthly_HH_Expense          15500.0\n",
       "No_of_Fly_Members             4.0\n",
       "Emi_or_Rent_Amt               0.0\n",
       "Annual_HH_Income         447420.0\n",
       "No_of_Earning_Members         1.0\n",
       "dtype: float64"
      ]
     },
     "execution_count": 34,
     "metadata": {},
     "output_type": "execute_result"
    }
   ],
   "source": [
    "df[['Mthly_HH_Income', 'Mthly_HH_Expense', 'No_of_Fly_Members',\n",
    "       'Emi_or_Rent_Amt', 'Annual_HH_Income','No_of_Earning_Members']].median()"
   ]
  },
  {
   "cell_type": "markdown",
   "id": "fb323177",
   "metadata": {},
   "source": [
    "Finding the Mode using Pandas .\n"
   ]
  },
  {
   "cell_type": "code",
   "execution_count": 35,
   "id": "47c2d6de",
   "metadata": {},
   "outputs": [
    {
     "data": {
      "text/html": [
       "<div>\n",
       "<style scoped>\n",
       "    .dataframe tbody tr th:only-of-type {\n",
       "        vertical-align: middle;\n",
       "    }\n",
       "\n",
       "    .dataframe tbody tr th {\n",
       "        vertical-align: top;\n",
       "    }\n",
       "\n",
       "    .dataframe thead th {\n",
       "        text-align: right;\n",
       "    }\n",
       "</style>\n",
       "<table border=\"1\" class=\"dataframe\">\n",
       "  <thead>\n",
       "    <tr style=\"text-align: right;\">\n",
       "      <th></th>\n",
       "      <th>Mthly_HH_Income</th>\n",
       "      <th>Mthly_HH_Expense</th>\n",
       "      <th>No_of_Fly_Members</th>\n",
       "      <th>Emi_or_Rent_Amt</th>\n",
       "      <th>Annual_HH_Income</th>\n",
       "      <th>No_of_Earning_Members</th>\n",
       "    </tr>\n",
       "  </thead>\n",
       "  <tbody>\n",
       "    <tr>\n",
       "      <th>0</th>\n",
       "      <td>45000</td>\n",
       "      <td>25000</td>\n",
       "      <td>4</td>\n",
       "      <td>0</td>\n",
       "      <td>590400</td>\n",
       "      <td>1</td>\n",
       "    </tr>\n",
       "  </tbody>\n",
       "</table>\n",
       "</div>"
      ],
      "text/plain": [
       "   Mthly_HH_Income  Mthly_HH_Expense  No_of_Fly_Members  Emi_or_Rent_Amt  \\\n",
       "0            45000             25000                  4                0   \n",
       "\n",
       "   Annual_HH_Income  No_of_Earning_Members  \n",
       "0            590400                      1  "
      ]
     },
     "execution_count": 35,
     "metadata": {},
     "output_type": "execute_result"
    }
   ],
   "source": [
    "df[['Mthly_HH_Income', 'Mthly_HH_Expense', 'No_of_Fly_Members',\n",
    "       'Emi_or_Rent_Amt', 'Annual_HH_Income','No_of_Earning_Members']].mode()"
   ]
  },
  {
   "cell_type": "code",
   "execution_count": null,
   "id": "461d6c7d",
   "metadata": {},
   "outputs": [],
   "source": []
  },
  {
   "cell_type": "code",
   "execution_count": null,
   "id": "b43e40cd",
   "metadata": {},
   "outputs": [],
   "source": []
  },
  {
   "cell_type": "markdown",
   "id": "27ee2547",
   "metadata": {},
   "source": [
    "# 2. Dispersion of Data\n",
    "![](https://editor.analyticsvidhya.com/uploads/31580Copy%20of%20Untitled%20(4).png)\n",
    "The dispersion is the ***“Spread of the data”***. It measures how far the data is spread.\n",
    "\n",
    "In most of the dataset, the data values are closely located near the mean. On some other dataset, the values are widely spread out of the mean. These dispersions of data can be measured by \n",
    "\n",
    "    2.1 Standard Deviation\n",
    "    2.2 Variance\n",
    "Let us see these measures in detail,"
   ]
  },
  {
   "cell_type": "markdown",
   "id": "0de8080c",
   "metadata": {},
   "source": [
    "#### 2.1 Standard Deviation\n",
    "The most common measure of spread is the standard deviation.\n",
    "\n",
    "The Standard deviation is the measure of ***how far the data deviates*** from the ***mean value***.\n",
    "\n",
    "The standard deviation formula varies for population and sample. Both formulas are similar, but not the same.\n",
    "\n",
    "> - Symbol used for Sample Standard Deviation  –  “s” (lowercase)\n",
    "> - Symbol used for Population Standard Deviation – “σ” (sigma, lower case)\n",
    "\n",
    "***Steps to find ***Standard deviation***\n",
    "\n",
    "If x is a number, then the difference “x – mean” is its deviation. The deviations are used to calculate the standard deviation.\n",
    "\n",
    "> - ***Sample Standard Deviation, s  = Square root of sample variance***\n",
    "> - ***Sample Standard Deviation, s = Square root of***   [Σ(x − x ¯ )2/ n-1]   \n",
    "\n",
    "where ***x***  is ***average*** and ***n*** is  ***no. of samples***\n",
    "\n",
    "\n",
    "![Standard deviation](https://editor.analyticsvidhya.com/uploads/80215Copy%20of%20Untitled%20(7).png)\n",
    "Standard Deviation for sample\n",
    "\n",
    ">***Population Standard Deviation, σ = Square root of population variance***\n",
    ">***Population Standard Deviation, σ = Square root of***  [ Σ(x − μ)2 / N ] where μ is Mean and N is no.of population.\n",
    "\n",
    "\n",
    "![standard deviation for population](https://editor.analyticsvidhya.com/uploads/70753Copy%20of%20Untitled%20(6).png)\n",
    "The standard deviation is always positive or zero. It will be large when the data values are spread out from the mean."
   ]
  },
  {
   "cell_type": "markdown",
   "id": "1d408524",
   "metadata": {},
   "source": [
    "#### 2.4 Variance\n",
    "The variance is a measure of variability. It is the ***average squared deviation from the mean.***\n",
    "\n",
    "The symbol σ2 represents the population variance and the symbol for s2 represents sample variance.\n",
    "\n",
    ">***Population variance   $σ^2$*** =  [ Σ(x − μ)2 / N ]<br>\n",
    ">***Sample Variance  $s^2$***  =  [ Σ(x − x ¯ )2/ n-1 ]\n",
    "\n",
    "![](https://editor.analyticsvidhya.com/uploads/24765Copy%20of%20Untitled%20(8).png)\n"
   ]
  },
  {
   "cell_type": "markdown",
   "id": "ab35b327",
   "metadata": {},
   "source": [
    "# 3. Shape of the Data\n",
    "The shape describes the type of the graph.\n",
    "\n",
    "The shape of the data is important because making a decision about the probability of data is based on its shape.\n",
    "![](https://editor.analyticsvidhya.com/uploads/57820Copy%20of%20Untitled%20(9).png)\n",
    "**The shape of the data** can be measured by two methodologies.\n",
    "\n",
    " >3.1 Symmetric<br>\n",
    " >3.2 Skewness<br>\n",
    " >3.3 Kurtosis<br>\n",
    "\n",
    "Let us discuss in detail,\n",
    "\n",
    "#### 3.1 Symmetric\n",
    "In the symmetric shape of the graph, the data is distributed the same on both sides.<br>\n",
    "In symmetric data, the mean and median are located close together.\n",
    "![symmetric](https://editor.analyticsvidhya.com/uploads/61915Copy%20of%20Untitled%20(10).png)\n",
    "The curve formed by this symmetric graph is called a normal curve.\n",
    "\n",
    "#### 3.2 Skewness\n",
    "Skewness is the measure of the asymmetry of the distribution of data.<br>\n",
    "The data is not symmetrical (i.e) it is skewed towards one side.<br>\n",
    "\n",
    "Skewness is classified into two types.\n",
    "\n",
    "   >3.2.1. Positive Skew<br>\n",
    "   >3.2.2. Negative Skew<br>\n",
    "\n",
    "let us see that,\n",
    "\n",
    "   >1.Positively skewed<br>\n",
    "    In a Positively skewed distribution, the data values are clustered around the left side of the distribution and the right side is longer.<br>\n",
    "    The mean and median will be greater than the mode in the positive skew.<br>\n",
    "   >2.Negatively skewed<br>\n",
    "    In a Negatively skewed distribution, the data values are clustered around the right side of the distribution and the left side is longer.<br>The mean and median will be less than the mode.<br>\n",
    "    \n",
    "![symmetric](https://editor.analyticsvidhya.com/uploads/90404Copy%20of%20Untitled%20(11).png)\n",
    "\n",
    "#### 3.3 Kurtosis\n",
    "Kurtosis is the measure of describing the distribution of data.\n",
    "\n",
    "This data is distributed in different ways. They are,\n",
    "\n",
    "    1. Platykurtic\n",
    "    2. Mesokurtic\n",
    "    3. Leptokurtic\n",
    "\n",
    "Let us discuss in detail,\n",
    "\n",
    "1. <u>Platykurtic</u><br>\n",
    "The platykurtic shows a distribution with flat tails. Here the data is distributed faltly . The flat tails indicated the small outliers in the distribution.\n",
    "![](https://editor.analyticsvidhya.com/uploads/43196Copy%20of%20Untitled%20(13).png)\n",
    "2. <u>Mesokurtic</u><br>\n",
    "In Mesokurtic, the data is widely distributed. It is normally distributed and it also matches normal distribution.\n",
    "![](https://editor.analyticsvidhya.com/uploads/29522Copy%20of%20Untitled%20(14).png)\n",
    "3. <u>Leptokurtic</u><br>\n",
    "In leptokurtic, the data is very closely distributed. The height of the peak is greater than width of the peak.\n",
    "![](https://editor.analyticsvidhya.com/uploads/63987Copy%20of%20Untitled%20(15).png)\n",
    "\n",
    "\n",
    "### Differences\n",
    "![](https://editor.analyticsvidhya.com/uploads/29049Copy%20of%20Untitled%20(12).png)\n"
   ]
  },
  {
   "cell_type": "code",
   "execution_count": 36,
   "id": "d53e063f",
   "metadata": {},
   "outputs": [
    {
     "data": {
      "text/html": [
       "<div>\n",
       "<style scoped>\n",
       "    .dataframe tbody tr th:only-of-type {\n",
       "        vertical-align: middle;\n",
       "    }\n",
       "\n",
       "    .dataframe tbody tr th {\n",
       "        vertical-align: top;\n",
       "    }\n",
       "\n",
       "    .dataframe thead th {\n",
       "        text-align: right;\n",
       "    }\n",
       "</style>\n",
       "<table border=\"1\" class=\"dataframe\">\n",
       "  <thead>\n",
       "    <tr style=\"text-align: right;\">\n",
       "      <th></th>\n",
       "      <th>Mthly_HH_Income</th>\n",
       "      <th>Mthly_HH_Expense</th>\n",
       "      <th>No_of_Fly_Members</th>\n",
       "      <th>Emi_or_Rent_Amt</th>\n",
       "      <th>Annual_HH_Income</th>\n",
       "      <th>Highest_Qualified_Member</th>\n",
       "      <th>No_of_Earning_Members</th>\n",
       "    </tr>\n",
       "  </thead>\n",
       "  <tbody>\n",
       "    <tr>\n",
       "      <th>0</th>\n",
       "      <td>5000</td>\n",
       "      <td>8000</td>\n",
       "      <td>3</td>\n",
       "      <td>2000</td>\n",
       "      <td>64200</td>\n",
       "      <td>Under-Graduate</td>\n",
       "      <td>1</td>\n",
       "    </tr>\n",
       "    <tr>\n",
       "      <th>1</th>\n",
       "      <td>6000</td>\n",
       "      <td>7000</td>\n",
       "      <td>2</td>\n",
       "      <td>3000</td>\n",
       "      <td>79920</td>\n",
       "      <td>Illiterate</td>\n",
       "      <td>1</td>\n",
       "    </tr>\n",
       "    <tr>\n",
       "      <th>2</th>\n",
       "      <td>10000</td>\n",
       "      <td>4500</td>\n",
       "      <td>2</td>\n",
       "      <td>0</td>\n",
       "      <td>112800</td>\n",
       "      <td>Under-Graduate</td>\n",
       "      <td>1</td>\n",
       "    </tr>\n",
       "    <tr>\n",
       "      <th>3</th>\n",
       "      <td>10000</td>\n",
       "      <td>2000</td>\n",
       "      <td>1</td>\n",
       "      <td>0</td>\n",
       "      <td>97200</td>\n",
       "      <td>Illiterate</td>\n",
       "      <td>1</td>\n",
       "    </tr>\n",
       "    <tr>\n",
       "      <th>4</th>\n",
       "      <td>12500</td>\n",
       "      <td>12000</td>\n",
       "      <td>2</td>\n",
       "      <td>3000</td>\n",
       "      <td>147000</td>\n",
       "      <td>Graduate</td>\n",
       "      <td>1</td>\n",
       "    </tr>\n",
       "  </tbody>\n",
       "</table>\n",
       "</div>"
      ],
      "text/plain": [
       "   Mthly_HH_Income  Mthly_HH_Expense  No_of_Fly_Members  Emi_or_Rent_Amt  \\\n",
       "0             5000              8000                  3             2000   \n",
       "1             6000              7000                  2             3000   \n",
       "2            10000              4500                  2                0   \n",
       "3            10000              2000                  1                0   \n",
       "4            12500             12000                  2             3000   \n",
       "\n",
       "   Annual_HH_Income Highest_Qualified_Member  No_of_Earning_Members  \n",
       "0             64200           Under-Graduate                      1  \n",
       "1             79920               Illiterate                      1  \n",
       "2            112800           Under-Graduate                      1  \n",
       "3             97200               Illiterate                      1  \n",
       "4            147000                 Graduate                      1  "
      ]
     },
     "execution_count": 36,
     "metadata": {},
     "output_type": "execute_result"
    }
   ],
   "source": [
    "df.head()"
   ]
  },
  {
   "cell_type": "markdown",
   "id": "9036ba97",
   "metadata": {},
   "source": [
    "Finding the Variance without In-Built Functions"
   ]
  },
  {
   "cell_type": "code",
   "execution_count": 37,
   "id": "6fdc3d37",
   "metadata": {},
   "outputs": [
    {
     "data": {
      "text/plain": [
       "100437186889.95831"
      ]
     },
     "execution_count": 37,
     "metadata": {},
     "output_type": "execute_result"
    }
   ],
   "source": [
    "mean = df['Annual_HH_Income'].mean()\n",
    "total = 0\n",
    "for i in df['Annual_HH_Income']:\n",
    "    a = i - mean\n",
    "    sq = a * a\n",
    "    total = total + sq\n",
    "python_var = total / len(df['Annual_HH_Income'])\n",
    "python_var"
   ]
  },
  {
   "cell_type": "code",
   "execution_count": 38,
   "id": "972ef8b6",
   "metadata": {},
   "outputs": [
    {
     "data": {
      "text/plain": [
       "Mthly_HH_Income          6.811009e+08\n",
       "Mthly_HH_Expense         1.461733e+08\n",
       "No_of_Fly_Members        2.302449e+00\n",
       "Emi_or_Rent_Amt          3.895551e+07\n",
       "Annual_HH_Income         1.024869e+11\n",
       "No_of_Earning_Members    5.391837e-01\n",
       "dtype: float64"
      ]
     },
     "execution_count": 38,
     "metadata": {},
     "output_type": "execute_result"
    }
   ],
   "source": [
    "df[['Mthly_HH_Income', 'Mthly_HH_Expense', 'No_of_Fly_Members',\n",
    "       'Emi_or_Rent_Amt', 'Annual_HH_Income','No_of_Earning_Members']].var()"
   ]
  },
  {
   "cell_type": "markdown",
   "id": "216d2b95",
   "metadata": {},
   "source": [
    "Standard Deviation using Pandas."
   ]
  },
  {
   "cell_type": "code",
   "execution_count": 39,
   "id": "1fd3795d",
   "metadata": {},
   "outputs": [
    {
     "data": {
      "text/plain": [
       "Mthly_HH_Income           26097.908979\n",
       "Mthly_HH_Expense          12090.216824\n",
       "No_of_Fly_Members             1.517382\n",
       "Emi_or_Rent_Amt            6241.434948\n",
       "Annual_HH_Income         320135.792123\n",
       "No_of_Earning_Members         0.734291\n",
       "dtype: float64"
      ]
     },
     "execution_count": 39,
     "metadata": {},
     "output_type": "execute_result"
    }
   ],
   "source": [
    "df[['Mthly_HH_Income', 'Mthly_HH_Expense', 'No_of_Fly_Members',\n",
    "       'Emi_or_Rent_Amt', 'Annual_HH_Income','No_of_Earning_Members']].std()"
   ]
  },
  {
   "cell_type": "code",
   "execution_count": 40,
   "id": "9f0e14a1",
   "metadata": {},
   "outputs": [
    {
     "data": {
      "text/html": [
       "<div>\n",
       "<style scoped>\n",
       "    .dataframe tbody tr th:only-of-type {\n",
       "        vertical-align: middle;\n",
       "    }\n",
       "\n",
       "    .dataframe tbody tr th {\n",
       "        vertical-align: top;\n",
       "    }\n",
       "\n",
       "    .dataframe thead th {\n",
       "        text-align: right;\n",
       "    }\n",
       "</style>\n",
       "<table border=\"1\" class=\"dataframe\">\n",
       "  <thead>\n",
       "    <tr style=\"text-align: right;\">\n",
       "      <th></th>\n",
       "      <th>Mthly_HH_Income</th>\n",
       "      <th>Mthly_HH_Expense</th>\n",
       "      <th>No_of_Fly_Members</th>\n",
       "      <th>Emi_or_Rent_Amt</th>\n",
       "      <th>Annual_HH_Income</th>\n",
       "      <th>No_of_Earning_Members</th>\n",
       "    </tr>\n",
       "  </thead>\n",
       "  <tbody>\n",
       "    <tr>\n",
       "      <th>Mthly_HH_Income</th>\n",
       "      <td>1.000000</td>\n",
       "      <td>0.649215</td>\n",
       "      <td>0.448317</td>\n",
       "      <td>0.036976</td>\n",
       "      <td>0.970315</td>\n",
       "      <td>0.347883</td>\n",
       "    </tr>\n",
       "    <tr>\n",
       "      <th>Mthly_HH_Expense</th>\n",
       "      <td>0.649215</td>\n",
       "      <td>1.000000</td>\n",
       "      <td>0.639702</td>\n",
       "      <td>0.405280</td>\n",
       "      <td>0.591222</td>\n",
       "      <td>0.311915</td>\n",
       "    </tr>\n",
       "    <tr>\n",
       "      <th>No_of_Fly_Members</th>\n",
       "      <td>0.448317</td>\n",
       "      <td>0.639702</td>\n",
       "      <td>1.000000</td>\n",
       "      <td>0.085808</td>\n",
       "      <td>0.430868</td>\n",
       "      <td>0.597482</td>\n",
       "    </tr>\n",
       "    <tr>\n",
       "      <th>Emi_or_Rent_Amt</th>\n",
       "      <td>0.036976</td>\n",
       "      <td>0.405280</td>\n",
       "      <td>0.085808</td>\n",
       "      <td>1.000000</td>\n",
       "      <td>0.002716</td>\n",
       "      <td>-0.097431</td>\n",
       "    </tr>\n",
       "    <tr>\n",
       "      <th>Annual_HH_Income</th>\n",
       "      <td>0.970315</td>\n",
       "      <td>0.591222</td>\n",
       "      <td>0.430868</td>\n",
       "      <td>0.002716</td>\n",
       "      <td>1.000000</td>\n",
       "      <td>0.296679</td>\n",
       "    </tr>\n",
       "    <tr>\n",
       "      <th>No_of_Earning_Members</th>\n",
       "      <td>0.347883</td>\n",
       "      <td>0.311915</td>\n",
       "      <td>0.597482</td>\n",
       "      <td>-0.097431</td>\n",
       "      <td>0.296679</td>\n",
       "      <td>1.000000</td>\n",
       "    </tr>\n",
       "  </tbody>\n",
       "</table>\n",
       "</div>"
      ],
      "text/plain": [
       "                       Mthly_HH_Income  Mthly_HH_Expense  No_of_Fly_Members  \\\n",
       "Mthly_HH_Income               1.000000          0.649215           0.448317   \n",
       "Mthly_HH_Expense              0.649215          1.000000           0.639702   \n",
       "No_of_Fly_Members             0.448317          0.639702           1.000000   \n",
       "Emi_or_Rent_Amt               0.036976          0.405280           0.085808   \n",
       "Annual_HH_Income              0.970315          0.591222           0.430868   \n",
       "No_of_Earning_Members         0.347883          0.311915           0.597482   \n",
       "\n",
       "                       Emi_or_Rent_Amt  Annual_HH_Income  \\\n",
       "Mthly_HH_Income               0.036976          0.970315   \n",
       "Mthly_HH_Expense              0.405280          0.591222   \n",
       "No_of_Fly_Members             0.085808          0.430868   \n",
       "Emi_or_Rent_Amt               1.000000          0.002716   \n",
       "Annual_HH_Income              0.002716          1.000000   \n",
       "No_of_Earning_Members        -0.097431          0.296679   \n",
       "\n",
       "                       No_of_Earning_Members  \n",
       "Mthly_HH_Income                     0.347883  \n",
       "Mthly_HH_Expense                    0.311915  \n",
       "No_of_Fly_Members                   0.597482  \n",
       "Emi_or_Rent_Amt                    -0.097431  \n",
       "Annual_HH_Income                    0.296679  \n",
       "No_of_Earning_Members               1.000000  "
      ]
     },
     "execution_count": 40,
     "metadata": {},
     "output_type": "execute_result"
    }
   ],
   "source": [
    "df.corr()\n"
   ]
  },
  {
   "cell_type": "code",
   "execution_count": 41,
   "id": "b5e995f8",
   "metadata": {},
   "outputs": [
    {
     "data": {
      "text/plain": [
       "<AxesSubplot:>"
      ]
     },
     "execution_count": 41,
     "metadata": {},
     "output_type": "execute_result"
    },
    {
     "data": {
      "image/png": "[encoded data removed]",
      "text/plain": [
       "<Figure size 1080x1080 with 2 Axes>"
      ]
     },
     "metadata": {
      "needs_background": "light"
     },
     "output_type": "display_data"
    }
   ],
   "source": [
    "plt.figure(figsize=(15,15))\n",
    "plt.style.use(\"bmh\")\n",
    "mask = np.triu(df.corr())\n",
    "sns.heatmap(df.corr(),mask=mask,cmap=\"winter\",annot=True)"
   ]
  },
  {
   "cell_type": "code",
   "execution_count": 42,
   "id": "07b95e07",
   "metadata": {},
   "outputs": [
    {
     "data": {
      "text/plain": [
       "<AxesSubplot:xlabel='Annual_HH_Income', ylabel='Mthly_HH_Income'>"
      ]
     },
     "execution_count": 42,
     "metadata": {},
     "output_type": "execute_result"
    },
    {
     "data": {
      "image/png": "[encoded data removed]",
      "text/plain": [
       "<Figure size 864x432 with 1 Axes>"
      ]
     },
     "metadata": {
      "needs_background": "light"
     },
     "output_type": "display_data"
    }
   ],
   "source": [
    "plt.figure(figsize=(12,6))\n",
    "plt.style.use(\"bmh\")\n",
    "sns.scatterplot(df['Annual_HH_Income'],df[\"Mthly_HH_Income\"],palette=\"inferno\",markers=\"O\")"
   ]
  },
  {
   "cell_type": "code",
   "execution_count": 43,
   "id": "d2372f10",
   "metadata": {},
   "outputs": [],
   "source": [
    "def standard_deviation(x):\n",
    "    length = len(x)\n",
    "    mean = sum(x) / len(x)\n",
    "    total = 0\n",
    "    for i in x:\n",
    "        a = (i - mean) ** 2\n",
    "        total = total + a\n",
    "    std = (total / length) ** 0.5\n",
    "    return std\n",
    "\n",
    "def covariance(x,y):\n",
    "    total = 0\n",
    "    mean_x = x.mean()\n",
    "    mean_y = y.mean()\n",
    "    for i in range(len(x)):\n",
    "        sum_x_y = (x[i] - mean_x) * ( y[i] - mean_y) \n",
    "        total = total + sum_x_y\n",
    "    cov = total / len(x)\n",
    "    return cov\n",
    "\n",
    "\n",
    "def correlation(x,y):\n",
    "    cov = covariance(x,y)\n",
    "    x_std = standard_deviation(x)\n",
    "    y_std = standard_deviation(y)\n",
    "    corr = cov / (x_std * y_std)\n",
    "    return corr"
   ]
  },
  {
   "cell_type": "code",
   "execution_count": 44,
   "id": "0e9a4c04",
   "metadata": {},
   "outputs": [
    {
     "data": {
      "text/plain": [
       "7944726511.680006"
      ]
     },
     "execution_count": 44,
     "metadata": {},
     "output_type": "execute_result"
    }
   ],
   "source": [
    "covariance(df['Mthly_HH_Income'],df['Annual_HH_Income'])"
   ]
  },
  {
   "cell_type": "code",
   "execution_count": null,
   "id": "4b8c1498",
   "metadata": {},
   "outputs": [],
   "source": []
  },
  {
   "cell_type": "code",
   "execution_count": null,
   "id": "655fd182",
   "metadata": {},
   "outputs": [],
   "source": []
  },
  {
   "cell_type": "code",
   "execution_count": null,
   "id": "496cd5e0",
   "metadata": {},
   "outputs": [],
   "source": []
  },
  {
   "cell_type": "markdown",
   "id": "1cd68a46",
   "metadata": {},
   "source": [
    "# Normal Distribution\n",
    "#### What is Normal Distribution?\n",
    "    The Normal distribution is also known as Gaussian or Gauss distribution. Many groups follow this type of pattern. That’s why it’s widely used in business, statistics, and in government bodies like the FDA:\n",
    "    - Heights of people.\n",
    "    - Measurement errors.\n",
    "    - Blood pressure.\n",
    "    - Points on a test.\n",
    "    - IQ scores.\n",
    "    - Salaries.\n",
    "#### Why is Normal Distribution Important?\n",
    "    There are several reasons why the normal distribution is crucial in statistics. Some of those are as follows:\n",
    "\n",
    "    1. The statistical hypothesis test assumes that the data follows a normal distribution.\n",
    "\n",
    "    2. Both linear and non-linear regression assumes that the residual follows the normal distribution.\n",
    "\n",
    "    3. Moreover, the central limit theorem states that as the sample size increases the distribution of the mean follows normal distribution irrespective of the distribution of the original variable\n",
    "\n",
    "    4. Apart from this most of the statistical software programs support some of the probability functions for normal distribution as well.\n",
    "#### Parameters of Normal Distribution\n",
    "    There are two main parameters of a normal distribution- the mean and standard deviation. With the help of these parameters, we can decide the shape and probabilities of the distribution wrt our problem statement. As the parameter value changes, the shape of the distribution changes.\n",
    "**1. Mean**\n",
    ">- Researchers used the mean or average value as a measure of central tendency. It can be used to describe the distribution of variables that are measured as ratios or intervals.\n",
    ">- The mean determines the location of the peak, and most of the data points are clustered around the mean in a normal distribution graph.\n",
    ">- If we change the value of the mean, then the curve of normal distribution moves either to the left or right along the X-axis.\n",
    "![](https://lh4.googleusercontent.com/tnTHmtuQXO0bFLJGi-D7r6X-8PE6l5ys0ddP9iW7qk6K5nJk4b-PMas1foZ1LuJ-jhUiA_uBW2Ky-50-IsOZl62PPEuq8wsDs6w-HLiIkxLoJyqJtrwlEc48ke38nHk6vsM6H_-b)\n",
    "\n",
    "**2. Standard Deviation**\n",
    ">- The standard deviation measures how the data points are dispersed relative to the mean.\n",
    ">- It determines how far the data points are away from the mean and represents the distance between the mean and the data points.\n",
    ">- The standard deviation defines the width of the graph. As a result, changing the value of standard deviation tightens or expands the width of the distribution along the x-axis.\n",
    ">- Usually, a smaller standard deviation wrt to the mean results in a steep curve while a larger standard deviation results in a flatter curve.\n",
    "![](https://lh5.googleusercontent.com/77EwJeuZytQNE8zFroRNsFLMbzcUfBtSN7ykYLsy_zQOoix_KeSU-7_6LOa7ztPcGIV9-ruYpKHvJQGNOeZwNYgt8KtohleDYmmHK_QVX3zztMFaGxqhv-J8aO6Xgf0znggr-tKf)\n",
    "\n",
    "#### Properties of Normal Distribution\n",
    "All forms of the normal distribution share the following characteristics:\n",
    "\n",
    "**1. It is symmetric**\n",
    ">- The shape of the normal distribution is perfectly symmetrical.\n",
    ">- This means that the curve of the normal distribution can be divided from the middle and we can produce two equal halves. Moreover, the symmetric shape exists when an equal number of observations lie on each side of the curve.\n",
    "\n",
    "**2. The mean, median, and mode are equal**\n",
    ">- The midpoint of normal distribution refers to the point with maximum frequency i.e., it consists of most observations of the variable.\n",
    ">- The midpoint is also the point where all three measures of central tendency fall. These measures are usually equal in a perfectly shaped normal distribution.\n",
    "\n",
    "**3. Empirical rule**\n",
    ">- In normally distributed data, there is a constant proportion of data points lying under the curve between the mean and a specific number of standard deviations from the mean.\n",
    ">- Thus, for a normal distribution, almost all values lie within 3 standard deviations of the mean.\n",
    ">- These check buttons of normal distribution will help you realize the appropriate percentages of the area under the curve.\n",
    ">- Remember that this empirical rule applies to all normal distributions. Also, note that these rules are applied only to the normal distributions.\n",
    "\n",
    "![](https://miro.medium.com/max/1200/1*IdGgdrY_n_9_YfkaCh-dag.png)\n",
    "\n",
    "**4. Skewness and kurtosis**\n",
    ">- Skewness and kurtosis are coefficients that measure how different the distribution is from a normal distribution.\n",
    ">- It measures the symmetry of the normal distribution while kurtosis measures the thickness of the tail distribution relative to that of normal distribution.\n",
    "\n",
    "**5. Area under the curve**\n",
    ">- The total area under the curve is unity(=1)"
   ]
  },
  {
   "cell_type": "code",
   "execution_count": 45,
   "id": "ff31f396",
   "metadata": {},
   "outputs": [
    {
     "data": {
      "text/plain": [
       "<AxesSubplot:xlabel='Annual_HH_Income', ylabel='Density'>"
      ]
     },
     "execution_count": 45,
     "metadata": {},
     "output_type": "execute_result"
    },
    {
     "data": {
      "image/png": "[encoded data removed]",
      "text/plain": [
       "<Figure size 864x576 with 1 Axes>"
      ]
     },
     "metadata": {
      "needs_background": "light"
     },
     "output_type": "display_data"
    }
   ],
   "source": [
    "plt.figure(figsize=(12,8))\n",
    "sns.distplot(df[\"Annual_HH_Income\"],color=\"blue\")"
   ]
  },
  {
   "cell_type": "markdown",
   "id": "2a103ff0",
   "metadata": {},
   "source": [
    "### Conclusion:\n",
    ">As we can see from the above Graph , The dats is not forming an Accurate bell shaped curve , which means the Given data is not Normally Distributed ."
   ]
  },
  {
   "cell_type": "code",
   "execution_count": null,
   "id": "e7013e76",
   "metadata": {},
   "outputs": [],
   "source": []
  },
  {
   "cell_type": "markdown",
   "id": "5afbfcae",
   "metadata": {},
   "source": [
    "# Q-Q Plots\n",
    "In Statistics, Q-Q(quantile-quantile) plots play a very vital role to graphically analyze and compare two probability distributions by plotting their quantiles against each other. If the two distributions which we are comparing are exactly equal then the points on the Q-Q plot will perfectly lie on a straight line y = x.\n",
    ">***“Draw graph, draw line, tell me if you think it's fine!” — Josh Starmer***\n",
    "\n",
    "Yes, it's just that simple. Being a data scientist or in general a statistician, it’s very important for you to know whether the distribution is normal or not so as to apply various statistical measures on the data and interpret it in much more human-understandable visualization and there Q-Q plot comes into the picture. The most fundamental question answered by Q-Q plot is:\n",
    ">***Is this curve Normally Distributed?***\n",
    "\n",
    "![](https://miro.medium.com/max/450/1*jSTbWzq192boua2_w0RZJg.png)\n",
    "#### Normally distributed, but why?\n",
    "Q-Q plots are used to find the type of distribution for a random variable whether it be a Gaussian Distribution, Uniform Distribution, Exponential Distribution or even Pareto Distribution, etc. You can tell the type of distribution using the power of the Q-Q plot just by looking at the plot. In general, we are talking about Normal distributions only because we have a very beautiful concept of 68–95–99.7 rule which perfectly fits into the normal distribution So we know how much of the data lies in the range of first standard deviation, second standard deviation and third standard deviation from the mean. So knowing if a distribution is Normal opens up new doors for us to experiment with the data easily. Secondly, Normal Distributions occur very frequently in most of the natural events which have a vast scope.\n",
    "#### How does it work? \n",
    " If the points at the ends of the curve formed from the points are not falling on a straight line but indeed are scattered significantly from the positions then we cannot conclude a relationship between the x and y axes which clearly signifies that our ordered values which we wanted to calculate are not Normally distributed.\n",
    " \n",
    " ![](https://miro.medium.com/max/512/1*_wuWDNGs3hB2K0_kgpoc1A.jpeg)\n",
    "If all the points plotted on the graph perfectly lies on a straight line then we can clearly say that this distribution is Normally distribution because it is evenly aligned with the standard normal variate which is the simple concept of Q-Q plot.\n",
    "#### Skewed Q-Q plots\n",
    "  ##### Left-skewed Q-Q plots\n",
    " - If the bottom end of the Q-Q plot deviates from the straight line but the upper end is not, then we can clearly say that the distribution has a longer tail to its left or simply it is left-skewed (or negatively skewed).\n",
    "![](https://miro.medium.com/max/700/1*aiUmkCQ5451VQa1JYXQioA.png) \n",
    " ##### Right-skewed Q-Q plots\n",
    " - when we see the upper end of the Q-Q plot to deviate from the straight line and the lower and follows a straight line then the curve has a longer till to its right and it is right-skewed (or positively skewed).\n",
    " ![](https://miro.medium.com/max/700/1*XGMMcZdBxPTK5K_MW7jNVA.png)\n",
    "##### FAT-Tailed Q-Q plots\n",
    " - The distribution with a fat tail will have both the ends of the Q-Q plot to deviate from the straight line and its center follows a straight line.\n",
    " ![](https://miro.medium.com/max/700/1*Z50lOJN5MGeWfH4h82Br_g.png)\n",
    "##### Thin-Tailed Q-Q plots \n",
    " - whereas a thin-tailed distribution will form a Q-Q plot with a very less or negligible deviation at the ends thus making it a perfect fit for the Normal Distribution.\n",
    " ![](https://miro.medium.com/max/700/1*-XKT7Xx0-BaxB2mLnq5b3A.png)"
   ]
  },
  {
   "cell_type": "code",
   "execution_count": 46,
   "id": "7c51ae3c",
   "metadata": {},
   "outputs": [],
   "source": [
    "def plot_data(df,feature):\n",
    "    plt.figure(figsize=(10,6))\n",
    "    plt.subplot(1,2,1)\n",
    "    df[feature].hist()\n",
    "    plt.subplot(1,2,2)\n",
    "    stat.probplot(df[feature],dist='norm',plot=pylab)\n",
    "    plt.show()"
   ]
  },
  {
   "cell_type": "code",
   "execution_count": 47,
   "id": "2444d816",
   "metadata": {},
   "outputs": [
    {
     "data": {
      "text/html": [
       "<div>\n",
       "<style scoped>\n",
       "    .dataframe tbody tr th:only-of-type {\n",
       "        vertical-align: middle;\n",
       "    }\n",
       "\n",
       "    .dataframe tbody tr th {\n",
       "        vertical-align: top;\n",
       "    }\n",
       "\n",
       "    .dataframe thead th {\n",
       "        text-align: right;\n",
       "    }\n",
       "</style>\n",
       "<table border=\"1\" class=\"dataframe\">\n",
       "  <thead>\n",
       "    <tr style=\"text-align: right;\">\n",
       "      <th></th>\n",
       "      <th>Mthly_HH_Income</th>\n",
       "      <th>Mthly_HH_Expense</th>\n",
       "      <th>No_of_Fly_Members</th>\n",
       "      <th>Emi_or_Rent_Amt</th>\n",
       "      <th>Annual_HH_Income</th>\n",
       "      <th>Highest_Qualified_Member</th>\n",
       "      <th>No_of_Earning_Members</th>\n",
       "    </tr>\n",
       "  </thead>\n",
       "  <tbody>\n",
       "    <tr>\n",
       "      <th>0</th>\n",
       "      <td>5000</td>\n",
       "      <td>8000</td>\n",
       "      <td>3</td>\n",
       "      <td>2000</td>\n",
       "      <td>64200</td>\n",
       "      <td>Under-Graduate</td>\n",
       "      <td>1</td>\n",
       "    </tr>\n",
       "    <tr>\n",
       "      <th>1</th>\n",
       "      <td>6000</td>\n",
       "      <td>7000</td>\n",
       "      <td>2</td>\n",
       "      <td>3000</td>\n",
       "      <td>79920</td>\n",
       "      <td>Illiterate</td>\n",
       "      <td>1</td>\n",
       "    </tr>\n",
       "    <tr>\n",
       "      <th>2</th>\n",
       "      <td>10000</td>\n",
       "      <td>4500</td>\n",
       "      <td>2</td>\n",
       "      <td>0</td>\n",
       "      <td>112800</td>\n",
       "      <td>Under-Graduate</td>\n",
       "      <td>1</td>\n",
       "    </tr>\n",
       "    <tr>\n",
       "      <th>3</th>\n",
       "      <td>10000</td>\n",
       "      <td>2000</td>\n",
       "      <td>1</td>\n",
       "      <td>0</td>\n",
       "      <td>97200</td>\n",
       "      <td>Illiterate</td>\n",
       "      <td>1</td>\n",
       "    </tr>\n",
       "    <tr>\n",
       "      <th>4</th>\n",
       "      <td>12500</td>\n",
       "      <td>12000</td>\n",
       "      <td>2</td>\n",
       "      <td>3000</td>\n",
       "      <td>147000</td>\n",
       "      <td>Graduate</td>\n",
       "      <td>1</td>\n",
       "    </tr>\n",
       "  </tbody>\n",
       "</table>\n",
       "</div>"
      ],
      "text/plain": [
       "   Mthly_HH_Income  Mthly_HH_Expense  No_of_Fly_Members  Emi_or_Rent_Amt  \\\n",
       "0             5000              8000                  3             2000   \n",
       "1             6000              7000                  2             3000   \n",
       "2            10000              4500                  2                0   \n",
       "3            10000              2000                  1                0   \n",
       "4            12500             12000                  2             3000   \n",
       "\n",
       "   Annual_HH_Income Highest_Qualified_Member  No_of_Earning_Members  \n",
       "0             64200           Under-Graduate                      1  \n",
       "1             79920               Illiterate                      1  \n",
       "2            112800           Under-Graduate                      1  \n",
       "3             97200               Illiterate                      1  \n",
       "4            147000                 Graduate                      1  "
      ]
     },
     "execution_count": 47,
     "metadata": {},
     "output_type": "execute_result"
    }
   ],
   "source": [
    "df.head()"
   ]
  },
  {
   "cell_type": "code",
   "execution_count": 48,
   "id": "0cd9a368",
   "metadata": {},
   "outputs": [
    {
     "data": {
      "image/png": "[encoded data removed]",
      "text/plain": [
       "<Figure size 720x432 with 2 Axes>"
      ]
     },
     "metadata": {
      "needs_background": "light"
     },
     "output_type": "display_data"
    }
   ],
   "source": [
    "plot_data(df,'Mthly_HH_Income')"
   ]
  },
  {
   "cell_type": "code",
   "execution_count": 49,
   "id": "3d6b0194",
   "metadata": {},
   "outputs": [
    {
     "data": {
      "image/png": "[encoded data removed]",
      "text/plain": [
       "<Figure size 720x432 with 2 Axes>"
      ]
     },
     "metadata": {
      "needs_background": "light"
     },
     "output_type": "display_data"
    }
   ],
   "source": [
    "plot_data(df,'Annual_HH_Income')"
   ]
  },
  {
   "cell_type": "code",
   "execution_count": 50,
   "id": "5c858fb5",
   "metadata": {},
   "outputs": [
    {
     "data": {
      "image/png": "[encoded data removed]",
      "text/plain": [
       "<Figure size 720x432 with 2 Axes>"
      ]
     },
     "metadata": {
      "needs_background": "light"
     },
     "output_type": "display_data"
    }
   ],
   "source": [
    "plot_data(df,'Mthly_HH_Expense')"
   ]
  },
  {
   "cell_type": "markdown",
   "id": "756f0511",
   "metadata": {},
   "source": [
    "### 10. Box Cox Transformation\n",
    "Definition : The Box-Cox transformation is defined as:\n",
    "\n",
    "$T(Y)=(Y exp(λ)−1)/λ$\n",
    "\n",
    "where Y is the response variable and λ is the transformation parameter. λ varies from -5 to 5. In the transformation, all values of λ are considered and the optimal value for a given variable is selected.\n",
    "\n",
    "Examples:"
   ]
  },
  {
   "cell_type": "code",
   "execution_count": 51,
   "id": "05138ba6",
   "metadata": {},
   "outputs": [
    {
     "data": {
      "image/png": "[encoded data removed]",
      "text/plain": [
       "<Figure size 720x432 with 2 Axes>"
      ]
     },
     "metadata": {
      "needs_background": "light"
     },
     "output_type": "display_data"
    }
   ],
   "source": [
    "df['Mthly_HH_Income_box'],parameters=stat.boxcox(df['Mthly_HH_Income'])\n",
    "plot_data(df,'Mthly_HH_Income_box')"
   ]
  },
  {
   "cell_type": "code",
   "execution_count": null,
   "id": "798c09cc",
   "metadata": {},
   "outputs": [],
   "source": []
  },
  {
   "cell_type": "code",
   "execution_count": null,
   "id": "6391b615",
   "metadata": {},
   "outputs": [],
   "source": []
  },
  {
   "cell_type": "code",
   "execution_count": null,
   "id": "1ee3c5b8",
   "metadata": {},
   "outputs": [],
   "source": []
  },
  {
   "cell_type": "code",
   "execution_count": null,
   "id": "29d806b5",
   "metadata": {},
   "outputs": [],
   "source": []
  },
  {
   "cell_type": "code",
   "execution_count": null,
   "id": "c3721220",
   "metadata": {},
   "outputs": [],
   "source": []
  },
  {
   "cell_type": "code",
   "execution_count": null,
   "id": "be6c7701",
   "metadata": {},
   "outputs": [],
   "source": []
  },
  {
   "cell_type": "code",
   "execution_count": null,
   "id": "059b0eec",
   "metadata": {},
   "outputs": [],
   "source": []
  },
  {
   "cell_type": "code",
   "execution_count": null,
   "id": "f5252825",
   "metadata": {},
   "outputs": [],
   "source": []
  },
  {
   "cell_type": "code",
   "execution_count": null,
   "id": "abec3a1a",
   "metadata": {},
   "outputs": [],
   "source": []
  },
  {
   "cell_type": "code",
   "execution_count": null,
   "id": "e9fab230",
   "metadata": {},
   "outputs": [],
   "source": []
  },
  {
   "cell_type": "code",
   "execution_count": null,
   "id": "02b4e292",
   "metadata": {},
   "outputs": [],
   "source": []
  },
  {
   "cell_type": "code",
   "execution_count": null,
   "id": "4ed694e2",
   "metadata": {},
   "outputs": [],
   "source": []
  },
  {
   "cell_type": "code",
   "execution_count": null,
   "id": "55927688",
   "metadata": {},
   "outputs": [],
   "source": []
  },
  {
   "cell_type": "code",
   "execution_count": null,
   "id": "71f705aa",
   "metadata": {},
   "outputs": [],
   "source": []
  },
  {
   "cell_type": "code",
   "execution_count": null,
   "id": "a44d5a9e",
   "metadata": {},
   "outputs": [],
   "source": []
  },
  {
   "cell_type": "code",
   "execution_count": null,
   "id": "7e02a666",
   "metadata": {},
   "outputs": [],
   "source": []
  },
  {
   "cell_type": "code",
   "execution_count": null,
   "id": "10e6af41",
   "metadata": {},
   "outputs": [],
   "source": []
  },
  {
   "cell_type": "code",
   "execution_count": null,
   "id": "cc73b86a",
   "metadata": {},
   "outputs": [],
   "source": []
  }
 ],
 "metadata": {
  "kernelspec": {
   "display_name": "Python 3",
   "language": "python",
   "name": "python3"
  },
  "language_info": {
   "codemirror_mode": {
    "name": "ipython",
    "version": 3
   },
   "file_extension": ".py",
   "mimetype": "text/x-python",
   "name": "python",
   "nbconvert_exporter": "python",
   "pygments_lexer": "ipython3",
   "version": "3.8.8"
  }
 },
 "nbformat": 4,
 "nbformat_minor": 5
}
